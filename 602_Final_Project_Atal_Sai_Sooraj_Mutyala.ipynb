{
  "nbformat": 4,
  "nbformat_minor": 0,
  "metadata": {
    "colab": {
      "name": "602 Final Project Atal Sai Sooraj Mutyala.ipynb",
      "provenance": [],
      "collapsed_sections": []
    },
    "kernelspec": {
      "name": "python3",
      "display_name": "Python 3"
    },
    "accelerator": "GPU"
  },
  "cells": [
    {
      "cell_type": "code",
      "metadata": {
        "id": "nL6-BJWJuViF",
        "colab_type": "code",
        "colab": {
          "base_uri": "https://localhost:8080/",
          "height": 64
        },
        "outputId": "47161b11-7377-458d-bcc7-7e4dae1f2529"
      },
      "source": [
        "import pandas as pd\n",
        "import numpy as np\n",
        "import re\n",
        "import scipy as sp\n",
        "import sklearn\n",
        "import sys\n",
        "from nltk.corpus import stopwords\n",
        "from nltk.tokenize import word_tokenize\n",
        "from sklearn.decomposition import NMF, LatentDirichletAllocation, PCA\n",
        "from sklearn.preprocessing import normalize\n",
        "import pickle\n",
        "from sklearn.feature_extraction.text import CountVectorizer, TfidfVectorizer\n",
        "from sklearn.neighbors import KNeighborsClassifier\n",
        "from sklearn.decomposition import NMF, LatentDirichletAllocation, PCA\n",
        "from sklearn.ensemble import RandomForestClassifier\n",
        "from sklearn.model_selection import train_test_split\n",
        "from sklearn.metrics import accuracy_score as accs\n",
        "from sklearn.linear_model import LogisticRegression\n",
        "from sklearn.naive_bayes import MultinomialNB\n",
        "from sklearn.cluster import KMeans\n",
        "from sklearn.cluster import DBSCAN\n",
        "from sklearn.tree import DecisionTreeClassifier,export_graphviz\n",
        "import matplotlib.pyplot as plt\n",
        "import tensorflow as tf\n",
        "from google.colab import files"
      ],
      "execution_count": 1,
      "outputs": [
        {
          "output_type": "display_data",
          "data": {
            "text/html": [
              "<p style=\"color: red;\">\n",
              "The default version of TensorFlow in Colab will soon switch to TensorFlow 2.x.<br>\n",
              "We recommend you <a href=\"https://www.tensorflow.org/guide/migrate\" target=\"_blank\">upgrade</a> now \n",
              "or ensure your notebook will continue to use TensorFlow 1.x via the <code>%tensorflow_version 1.x</code> magic:\n",
              "<a href=\"https://colab.research.google.com/notebooks/tensorflow_version.ipynb\" target=\"_blank\">more info</a>.</p>\n"
            ],
            "text/plain": [
              "<IPython.core.display.HTML object>"
            ]
          },
          "metadata": {
            "tags": []
          }
        }
      ]
    },
    {
      "cell_type": "markdown",
      "metadata": {
        "id": "V8_tlTJe_i1-",
        "colab_type": "text"
      },
      "source": [
        "Setting up GPU"
      ]
    },
    {
      "cell_type": "code",
      "metadata": {
        "id": "6JkJEhoevVil",
        "colab_type": "code",
        "colab": {
          "base_uri": "https://localhost:8080/",
          "height": 35
        },
        "outputId": "55cc3e75-04ff-4938-c8be-23747e930e24"
      },
      "source": [
        "device_name = tf.test.gpu_device_name()\n",
        "if device_name != '/device:GPU:0':\n",
        "    raise SystemError('GPU device not found')\n",
        "print('Found GPU at: {}'.format(device_name))"
      ],
      "execution_count": 2,
      "outputs": [
        {
          "output_type": "stream",
          "text": [
            "Found GPU at: /device:GPU:0\n"
          ],
          "name": "stdout"
        }
      ]
    },
    {
      "cell_type": "code",
      "metadata": {
        "id": "7wDhWtCQvm4J",
        "colab_type": "code",
        "colab": {
          "resources": {
            "http://localhost:8080/nbextensions/google.colab/files.js": {
              "data": "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",
              "ok": true,
              "headers": [
                [
                  "content-type",
                  "application/javascript"
                ]
              ],
              "status": 200,
              "status_text": ""
            }
          },
          "base_uri": "https://localhost:8080/",
          "height": 110
        },
        "outputId": "c59a6d1d-d9aa-4da2-84de-15074f3bbc8b"
      },
      "source": [
        "files_upload=files.upload()"
      ],
      "execution_count": 3,
      "outputs": [
        {
          "output_type": "display_data",
          "data": {
            "text/html": [
              "\n",
              "     <input type=\"file\" id=\"files-49517c9f-af59-4856-b7bc-8c4b8c3253a5\" name=\"files[]\" multiple disabled />\n",
              "     <output id=\"result-49517c9f-af59-4856-b7bc-8c4b8c3253a5\">\n",
              "      Upload widget is only available when the cell has been executed in the\n",
              "      current browser session. Please rerun this cell to enable.\n",
              "      </output>\n",
              "      <script src=\"/nbextensions/google.colab/files.js\"></script> "
            ],
            "text/plain": [
              "<IPython.core.display.HTML object>"
            ]
          },
          "metadata": {
            "tags": []
          }
        },
        {
          "output_type": "stream",
          "text": [
            "Saving 20190928-items.csv to 20190928-items.csv\n",
            "Saving 20190928-reviews.csv to 20190928-reviews.csv\n"
          ],
          "name": "stdout"
        }
      ]
    },
    {
      "cell_type": "code",
      "metadata": {
        "id": "QjbDuSTYwnrf",
        "colab_type": "code",
        "colab": {}
      },
      "source": [
        "import io\n",
        "df2 = pd.read_csv(io.BytesIO(files_upload['20190928-reviews.csv']))"
      ],
      "execution_count": 0,
      "outputs": []
    },
    {
      "cell_type": "code",
      "metadata": {
        "id": "KbXkelyu0kUa",
        "colab_type": "code",
        "colab": {}
      },
      "source": [
        "df2.verified=df2.verified.astype('int')"
      ],
      "execution_count": 0,
      "outputs": []
    },
    {
      "cell_type": "code",
      "metadata": {
        "id": "9oTofjrJ1aiW",
        "colab_type": "code",
        "colab": {
          "base_uri": "https://localhost:8080/",
          "height": 289
        },
        "outputId": "6b9487b5-736b-407a-fe60-4a83494905e3"
      },
      "source": [
        "df2.head()"
      ],
      "execution_count": 6,
      "outputs": [
        {
          "output_type": "execute_result",
          "data": {
            "text/html": [
              "<div>\n",
              "<style scoped>\n",
              "    .dataframe tbody tr th:only-of-type {\n",
              "        vertical-align: middle;\n",
              "    }\n",
              "\n",
              "    .dataframe tbody tr th {\n",
              "        vertical-align: top;\n",
              "    }\n",
              "\n",
              "    .dataframe thead th {\n",
              "        text-align: right;\n",
              "    }\n",
              "</style>\n",
              "<table border=\"1\" class=\"dataframe\">\n",
              "  <thead>\n",
              "    <tr style=\"text-align: right;\">\n",
              "      <th></th>\n",
              "      <th>asin</th>\n",
              "      <th>name</th>\n",
              "      <th>rating</th>\n",
              "      <th>date</th>\n",
              "      <th>verified</th>\n",
              "      <th>title</th>\n",
              "      <th>body</th>\n",
              "      <th>helpfulVotes</th>\n",
              "    </tr>\n",
              "  </thead>\n",
              "  <tbody>\n",
              "    <tr>\n",
              "      <th>0</th>\n",
              "      <td>B0000SX2UC</td>\n",
              "      <td>Janet</td>\n",
              "      <td>3</td>\n",
              "      <td>October 11, 2005</td>\n",
              "      <td>0</td>\n",
              "      <td>Def not best, but not worst</td>\n",
              "      <td>I had the Samsung A600 for awhile which is abs...</td>\n",
              "      <td>1.0</td>\n",
              "    </tr>\n",
              "    <tr>\n",
              "      <th>1</th>\n",
              "      <td>B0000SX2UC</td>\n",
              "      <td>Luke Wyatt</td>\n",
              "      <td>1</td>\n",
              "      <td>January 7, 2004</td>\n",
              "      <td>0</td>\n",
              "      <td>Text Messaging Doesn't Work</td>\n",
              "      <td>Due to a software issue between Nokia and Spri...</td>\n",
              "      <td>17.0</td>\n",
              "    </tr>\n",
              "    <tr>\n",
              "      <th>2</th>\n",
              "      <td>B0000SX2UC</td>\n",
              "      <td>Brooke</td>\n",
              "      <td>5</td>\n",
              "      <td>December 30, 2003</td>\n",
              "      <td>0</td>\n",
              "      <td>Love This Phone</td>\n",
              "      <td>This is a great, reliable phone. I also purcha...</td>\n",
              "      <td>5.0</td>\n",
              "    </tr>\n",
              "    <tr>\n",
              "      <th>3</th>\n",
              "      <td>B0000SX2UC</td>\n",
              "      <td>amy m. teague</td>\n",
              "      <td>3</td>\n",
              "      <td>March 18, 2004</td>\n",
              "      <td>0</td>\n",
              "      <td>Love the Phone, BUT...!</td>\n",
              "      <td>I love the phone and all, because I really did...</td>\n",
              "      <td>1.0</td>\n",
              "    </tr>\n",
              "    <tr>\n",
              "      <th>4</th>\n",
              "      <td>B0000SX2UC</td>\n",
              "      <td>tristazbimmer</td>\n",
              "      <td>4</td>\n",
              "      <td>August 28, 2005</td>\n",
              "      <td>0</td>\n",
              "      <td>Great phone service and options, lousy case!</td>\n",
              "      <td>The phone has been great for every purpose it ...</td>\n",
              "      <td>1.0</td>\n",
              "    </tr>\n",
              "  </tbody>\n",
              "</table>\n",
              "</div>"
            ],
            "text/plain": [
              "         asin  ... helpfulVotes\n",
              "0  B0000SX2UC  ...          1.0\n",
              "1  B0000SX2UC  ...         17.0\n",
              "2  B0000SX2UC  ...          5.0\n",
              "3  B0000SX2UC  ...          1.0\n",
              "4  B0000SX2UC  ...          1.0\n",
              "\n",
              "[5 rows x 8 columns]"
            ]
          },
          "metadata": {
            "tags": []
          },
          "execution_count": 6
        }
      ]
    },
    {
      "cell_type": "markdown",
      "metadata": {
        "id": "B5PAy8zX_ucf",
        "colab_type": "text"
      },
      "source": [
        "Finding null values"
      ]
    },
    {
      "cell_type": "code",
      "metadata": {
        "id": "2dApSZuE2yTv",
        "colab_type": "code",
        "colab": {
          "base_uri": "https://localhost:8080/",
          "height": 173
        },
        "outputId": "aae49ca9-0464-4354-f4d6-63d5ad3b7064"
      },
      "source": [
        "df2.isnull().sum()"
      ],
      "execution_count": 7,
      "outputs": [
        {
          "output_type": "execute_result",
          "data": {
            "text/plain": [
              "asin                0\n",
              "name                5\n",
              "rating              0\n",
              "date                0\n",
              "verified            0\n",
              "title              10\n",
              "body               20\n",
              "helpfulVotes    49681\n",
              "dtype: int64"
            ]
          },
          "metadata": {
            "tags": []
          },
          "execution_count": 7
        }
      ]
    },
    {
      "cell_type": "code",
      "metadata": {
        "id": "7tju9bLN9iNm",
        "colab_type": "code",
        "colab": {
          "base_uri": "https://localhost:8080/",
          "height": 173
        },
        "outputId": "7f686cec-4427-45f4-877c-c11cd1933d7d"
      },
      "source": [
        "df2.dtypes"
      ],
      "execution_count": 8,
      "outputs": [
        {
          "output_type": "execute_result",
          "data": {
            "text/plain": [
              "asin             object\n",
              "name             object\n",
              "rating            int64\n",
              "date             object\n",
              "verified          int64\n",
              "title            object\n",
              "body             object\n",
              "helpfulVotes    float64\n",
              "dtype: object"
            ]
          },
          "metadata": {
            "tags": []
          },
          "execution_count": 8
        }
      ]
    },
    {
      "cell_type": "code",
      "metadata": {
        "id": "crKofG4Q5pUc",
        "colab_type": "code",
        "colab": {}
      },
      "source": [
        "df2 = df2[df2['title'].notnull()]\n",
        "df2 = df2[df2['body'].notnull()]"
      ],
      "execution_count": 0,
      "outputs": []
    },
    {
      "cell_type": "markdown",
      "metadata": {
        "id": "3mMgUm-H_0qq",
        "colab_type": "text"
      },
      "source": [
        "Filling null values"
      ]
    },
    {
      "cell_type": "code",
      "metadata": {
        "id": "htShO2Rb-I1I",
        "colab_type": "code",
        "colab": {}
      },
      "source": [
        "df2['helpfulVotes'] = df2['helpfulVotes'].fillna(0)\n"
      ],
      "execution_count": 0,
      "outputs": []
    },
    {
      "cell_type": "code",
      "metadata": {
        "id": "gOio54wA-uLc",
        "colab_type": "code",
        "colab": {}
      },
      "source": [
        "df2.helpfulVotes = df2.helpfulVotes.astype(int)"
      ],
      "execution_count": 0,
      "outputs": []
    },
    {
      "cell_type": "code",
      "metadata": {
        "id": "icuIfDYc-voK",
        "colab_type": "code",
        "colab": {
          "base_uri": "https://localhost:8080/",
          "height": 289
        },
        "outputId": "1b7357b3-d3b7-40c4-ff64-6d45b3bf021f"
      },
      "source": [
        "df2.head()"
      ],
      "execution_count": 12,
      "outputs": [
        {
          "output_type": "execute_result",
          "data": {
            "text/html": [
              "<div>\n",
              "<style scoped>\n",
              "    .dataframe tbody tr th:only-of-type {\n",
              "        vertical-align: middle;\n",
              "    }\n",
              "\n",
              "    .dataframe tbody tr th {\n",
              "        vertical-align: top;\n",
              "    }\n",
              "\n",
              "    .dataframe thead th {\n",
              "        text-align: right;\n",
              "    }\n",
              "</style>\n",
              "<table border=\"1\" class=\"dataframe\">\n",
              "  <thead>\n",
              "    <tr style=\"text-align: right;\">\n",
              "      <th></th>\n",
              "      <th>asin</th>\n",
              "      <th>name</th>\n",
              "      <th>rating</th>\n",
              "      <th>date</th>\n",
              "      <th>verified</th>\n",
              "      <th>title</th>\n",
              "      <th>body</th>\n",
              "      <th>helpfulVotes</th>\n",
              "    </tr>\n",
              "  </thead>\n",
              "  <tbody>\n",
              "    <tr>\n",
              "      <th>0</th>\n",
              "      <td>B0000SX2UC</td>\n",
              "      <td>Janet</td>\n",
              "      <td>3</td>\n",
              "      <td>October 11, 2005</td>\n",
              "      <td>0</td>\n",
              "      <td>Def not best, but not worst</td>\n",
              "      <td>I had the Samsung A600 for awhile which is abs...</td>\n",
              "      <td>1</td>\n",
              "    </tr>\n",
              "    <tr>\n",
              "      <th>1</th>\n",
              "      <td>B0000SX2UC</td>\n",
              "      <td>Luke Wyatt</td>\n",
              "      <td>1</td>\n",
              "      <td>January 7, 2004</td>\n",
              "      <td>0</td>\n",
              "      <td>Text Messaging Doesn't Work</td>\n",
              "      <td>Due to a software issue between Nokia and Spri...</td>\n",
              "      <td>17</td>\n",
              "    </tr>\n",
              "    <tr>\n",
              "      <th>2</th>\n",
              "      <td>B0000SX2UC</td>\n",
              "      <td>Brooke</td>\n",
              "      <td>5</td>\n",
              "      <td>December 30, 2003</td>\n",
              "      <td>0</td>\n",
              "      <td>Love This Phone</td>\n",
              "      <td>This is a great, reliable phone. I also purcha...</td>\n",
              "      <td>5</td>\n",
              "    </tr>\n",
              "    <tr>\n",
              "      <th>3</th>\n",
              "      <td>B0000SX2UC</td>\n",
              "      <td>amy m. teague</td>\n",
              "      <td>3</td>\n",
              "      <td>March 18, 2004</td>\n",
              "      <td>0</td>\n",
              "      <td>Love the Phone, BUT...!</td>\n",
              "      <td>I love the phone and all, because I really did...</td>\n",
              "      <td>1</td>\n",
              "    </tr>\n",
              "    <tr>\n",
              "      <th>4</th>\n",
              "      <td>B0000SX2UC</td>\n",
              "      <td>tristazbimmer</td>\n",
              "      <td>4</td>\n",
              "      <td>August 28, 2005</td>\n",
              "      <td>0</td>\n",
              "      <td>Great phone service and options, lousy case!</td>\n",
              "      <td>The phone has been great for every purpose it ...</td>\n",
              "      <td>1</td>\n",
              "    </tr>\n",
              "  </tbody>\n",
              "</table>\n",
              "</div>"
            ],
            "text/plain": [
              "         asin  ... helpfulVotes\n",
              "0  B0000SX2UC  ...            1\n",
              "1  B0000SX2UC  ...           17\n",
              "2  B0000SX2UC  ...            5\n",
              "3  B0000SX2UC  ...            1\n",
              "4  B0000SX2UC  ...            1\n",
              "\n",
              "[5 rows x 8 columns]"
            ]
          },
          "metadata": {
            "tags": []
          },
          "execution_count": 12
        }
      ]
    },
    {
      "cell_type": "code",
      "metadata": {
        "id": "JSJ8Q3dDC3Fi",
        "colab_type": "code",
        "colab": {}
      },
      "source": [
        "def top_words(model, feature_names, n_top_words):\n",
        "    for topic_idx, topic in enumerate(model.components_):\n",
        "        message = \"Topic #%d: \" % topic_idx\n",
        "        message += \" \".join([feature_names[i]\n",
        "                             for i in topic.argsort()[:-n_top_words - 1:-1]])\n",
        "        print(message)\n",
        "    print()"
      ],
      "execution_count": 0,
      "outputs": []
    },
    {
      "cell_type": "markdown",
      "metadata": {
        "id": "6lW5P1GS_93I",
        "colab_type": "text"
      },
      "source": [
        "LSA method- Topic Modelling"
      ]
    },
    {
      "cell_type": "code",
      "metadata": {
        "id": "rOc4xZ44Dsvj",
        "colab_type": "code",
        "colab": {}
      },
      "source": [
        "tf_idf = TfidfVectorizer(stop_words='english', max_features=1000)\n",
        "data_tf_idf = tf_idf.fit_transform(df2['body'])\n",
        "nmf = NMF(n_components=30, random_state=1,\n",
        "          alpha=.1, l1_ratio=.5)\n",
        "nmf.fit(data_tf_idf)\n",
        "nmf_data=nmf.transform(data_tf_idf)"
      ],
      "execution_count": 0,
      "outputs": []
    },
    {
      "cell_type": "code",
      "metadata": {
        "id": "z3PMEcopD-2U",
        "colab_type": "code",
        "colab": {
          "base_uri": "https://localhost:8080/",
          "height": 555
        },
        "outputId": "262f3dc0-9ae4-46fe-83cc-ab57379c2012"
      },
      "source": [
        "top_words(nmf, tf_idf.get_feature_names(), 10)"
      ],
      "execution_count": 15,
      "outputs": [
        {
          "output_type": "stream",
          "text": [
            "Topic #0: camera samsung phones really iphone better time android ve quality\n",
            "Topic #1: good quality really value deal pretty camera overall looks cellphone\n",
            "Topic #2: great deal value camera phone quality looks shape features worked\n",
            "Topic #3: love absolutely new thank note features size big phone galaxy\n",
            "Topic #4: like new brand looks looked refurbished scratches really box look\n",
            "Topic #5: excellent quality camera condition value service thanks recommend smartphone performance\n",
            "Topic #6: phone cell received recommend amazing problems money got refurbished purchased\n",
            "Topic #7: works perfectly fine looks issues problems time scratches mobile arrived\n",
            "Topic #8: product described seller service recommend satisfied received time arrived thanks\n",
            "Topic #9: nice really camera features phone big thanks smartphone size looking\n",
            "Topic #10: perfect size thanks thank condition gift absolutely arrived exactly looks\n",
            "Topic #11: el la muy que en es lo teléfono se buen\n",
            "Topic #12: battery life charge long day hours lasts bad days hold\n",
            "Topic #13: sim card verizon worked sd mobile did come store old\n",
            "Topic #14: price quality amazing worth reasonable beat value low decent better\n",
            "Topic #15: work doesn does did didn return charger verizon network mobile\n",
            "Topic #16: far problems issues ve haven complaints pleased loving weeks week\n",
            "Topic #17: working stopped months fine month perfectly days bought stop weeks\n",
            "Topic #18: best ve owned market phones smartphone phone android camera used\n",
            "Topic #19: awesome camera thanks features super phone life pictures quality color\n",
            "Topic #20: condition came charger arrived scratches box described new time original\n",
            "Topic #21: happy purchase bought thank wife loves really son new got\n",
            "Topic #22: excelente producto teléfono buen muy lo 100 todo super media\n",
            "Topic #23: just described fine got wanted exactly needed worked received today\n",
            "Topic #24: buy don money seller refurbished definitely worth new amazon months\n",
            "Topic #25: use easy set personal features simple need able apps day\n",
            "Topic #26: unlocked verizon locked advertised mobile carrier network wasn sprint said\n",
            "Topic #27: fast shipping amazing delivery super camera thank beautiful really came\n",
            "Topic #28: screen protector scratches touch case cracked glass big black scratch\n",
            "Topic #29: expected better exactly arrived earlier worked came faster delivered thank\n",
            "\n"
          ],
          "name": "stdout"
        }
      ]
    },
    {
      "cell_type": "markdown",
      "metadata": {
        "id": "_r5Dc2RtAncq",
        "colab_type": "text"
      },
      "source": [
        "PLSA method- Topic Modelling"
      ]
    },
    {
      "cell_type": "code",
      "metadata": {
        "id": "a76cjQ56EJQA",
        "colab_type": "code",
        "colab": {}
      },
      "source": [
        "tf_idf = TfidfVectorizer(stop_words='english', max_features=1000)\n",
        "data_tf_idf = tf_idf.fit_transform(df2['body'])\n",
        "nmf = NMF(n_components=30, random_state=1, beta_loss='kullback-leibler',\n",
        "          solver='mu', alpha=.1, l1_ratio=.5)\n",
        "nmf_data=nmf.fit(data_tf_idf)"
      ],
      "execution_count": 0,
      "outputs": []
    },
    {
      "cell_type": "code",
      "metadata": {
        "id": "_yM5_OuZEbkH",
        "colab_type": "code",
        "colab": {
          "base_uri": "https://localhost:8080/",
          "height": 555
        },
        "outputId": "a20c3a4d-136d-4f6c-d8aa-b3f2038a8a80"
      },
      "source": [
        "top_words(nmf, tf_idf.get_feature_names(), 10)"
      ],
      "execution_count": 17,
      "outputs": [
        {
          "output_type": "stream",
          "text": [
            "Topic #0: phone like great don getting going thing lot make really\n",
            "Topic #1: good pretty overall value choice really performance complain stuff real\n",
            "Topic #2: great works deal value shape thanks freezes freezing friend friendly\n",
            "Topic #3: love great absolutely color thank learning zero function friendly friends\n",
            "Topic #4: new like works brand looks perfectly refurbished looked scratches fine\n",
            "Topic #5: product excellent seller recommend service 100 highly satisfied customer recommended\n",
            "Topic #6: phone cell perfectly cricket stolen shape metro pcs activated tmobile\n",
            "Topic #7: battery camera screen day apps life android 10 using works\n",
            "Topic #8: received return phone disappointed seller said service amazon tried sent\n",
            "Topic #9: nice big really little looking clean wonderful cheap design durable\n",
            "Topic #10: perfect condition thank arrived size absolutely needs near early fits\n",
            "Topic #11: el muy la en lo es que buen bueno se\n",
            "Topic #12: battery phone life charge day long hours days charged lasts\n",
            "Topic #13: did new worked box didn come problem right charger refurbished\n",
            "Topic #14: price samsung galaxy note worth definitely pleased expectations looking recommend\n",
            "Topic #15: work does doesn did didn need network mobile compatible 4g\n",
            "Topic #16: far card sim verizon mobile issues complaints able problems activate\n",
            "Topic #17: working months fine problems issues phone month stopped days charging\n",
            "Topic #18: best phones android ve used owned samsung google smartphone camera\n",
            "Topic #19: camera awesome features pictures pretty fingerprint clear cool beautiful takes\n",
            "Topic #20: came charger arrived scratches box phone original satisfied broken screen\n",
            "Topic #21: happy bought purchase really loves phone gift loved daughter wife\n",
            "Topic #22: excelente producto 10 stylus xiaomi total nfc premium pen g6\n",
            "Topic #23: just time described got exactly thanks needed wanted iphone better\n",
            "Topic #24: money bought amazon phones months buying don cell pay cellphone\n",
            "Topic #25: ok phone use apps calls easy memory need speaker old\n",
            "Topic #26: use unlocked easy advertised locked carrier mobile set unlock features\n",
            "Topic #27: fast amazing quality device delivery item shipping super beautiful picture\n",
            "Topic #28: screen got expected just case touch black protector cracked small\n",
            "Topic #29: buy better iphone phone don bad recommend apple definitely way\n",
            "\n"
          ],
          "name": "stdout"
        }
      ]
    },
    {
      "cell_type": "markdown",
      "metadata": {
        "id": "rwXUTeM6Awvs",
        "colab_type": "text"
      },
      "source": [
        "LDA method- Topic Modelling"
      ]
    },
    {
      "cell_type": "code",
      "metadata": {
        "id": "bk8QV-GiEgi3",
        "colab_type": "code",
        "colab": {}
      },
      "source": [
        "count = CountVectorizer(stop_words='english', max_features=1000)\n",
        "data_count = count.fit_transform(df2['body'])\n",
        "lda = LatentDirichletAllocation(n_components=25, max_iter=5, \n",
        "                                learning_method='online', random_state=1)\n",
        "lda_data=lda.fit_transform(data_count)"
      ],
      "execution_count": 0,
      "outputs": []
    },
    {
      "cell_type": "code",
      "metadata": {
        "id": "6whKLOoHEubJ",
        "colab_type": "code",
        "colab": {
          "base_uri": "https://localhost:8080/",
          "height": 468
        },
        "outputId": "7ccaf306-6d8e-4cf1-b5e6-f3030a2ea18d"
      },
      "source": [
        "top_words(lda, count.get_feature_names(), 10)"
      ],
      "execution_count": 19,
      "outputs": [
        {
          "output_type": "stream",
          "text": [
            "Topic #0: new phone came like charger brand box refurbished looks scratches\n",
            "Topic #1: great works phone excellent product recommend easy use highly s10\n",
            "Topic #2: love phone price great awesome money wasn s5 waste delivery\n",
            "Topic #3: phone issues warranty weeks couldn worked tried talk time straight\n",
            "Topic #4: camera fast phone amazing really price best better quality super\n",
            "Topic #5: moto nice el la muy que en lo se described\n",
            "Topic #6: sim card unlocked phone mobile sprint locked work sd unlock\n",
            "Topic #7: screen pixel use fingerprint photos usb case protector mode display\n",
            "Topic #8: phone ve phones buy don nokia just time want sony\n",
            "Topic #9: far happy phone problems bought started s7 old cell s9\n",
            "Topic #10: perfect condition purchase phone received works quick completely amazon price\n",
            "Topic #11: android apps google device app version apple update performance software\n",
            "Topic #12: phone verizon service network customer store took absolutely data motorola\n",
            "Topic #13: expected ok quality item little scratch gift beautiful usa expectations\n",
            "Topic #14: seller phone work didn product disappointed doesn device carrier bought\n",
            "Topic #15: good return phone pleased order runs pie need basic needed\n",
            "Topic #16: problem issue excelente reset quickly hour fix won way cheaper\n",
            "Topic #17: features big sound bluetooth volume size smartphone calling flagship button\n",
            "Topic #18: samsung galaxy bad edge picture let 10 installed thing s6\n",
            "Topic #19: phone screen like just camera iphone great don really use\n",
            "Topic #20: working phone amazon screen months huawei sent buy replacement stopped\n",
            "Topic #21: battery life day hours long returned fully broken power charged\n",
            "Topic #22: phone note charge charging just perfectly got works fast new\n",
            "Topic #23: work phone does calls wifi make settings use turn charge\n",
            "Topic #24: support phones es smart jack loved s8 glad tech son\n",
            "\n"
          ],
          "name": "stdout"
        }
      ]
    },
    {
      "cell_type": "markdown",
      "metadata": {
        "id": "RIo_WI73A8qb",
        "colab_type": "text"
      },
      "source": [
        "Analysis on 'title' column"
      ]
    },
    {
      "cell_type": "markdown",
      "metadata": {
        "id": "-RlL_7KQ_Wnk",
        "colab_type": "text"
      },
      "source": [
        "TFID Vectorizer"
      ]
    },
    {
      "cell_type": "code",
      "metadata": {
        "id": "fXyjknPU_Zpi",
        "colab_type": "code",
        "colab": {}
      },
      "source": [
        "tf=TfidfVectorizer()\n",
        "t=tf.fit_transform(df2['title'])"
      ],
      "execution_count": 0,
      "outputs": []
    },
    {
      "cell_type": "code",
      "metadata": {
        "id": "tvTSH33I_rE3",
        "colab_type": "code",
        "colab": {}
      },
      "source": [
        "x_train,x_test = train_test_split(t,train_size=0.8,random_state=2)\n",
        "y_train,y_test = train_test_split(df2['rating'],train_size=0.8,random_state=2)"
      ],
      "execution_count": 0,
      "outputs": []
    },
    {
      "cell_type": "markdown",
      "metadata": {
        "id": "nfsK8-53A-f6",
        "colab_type": "text"
      },
      "source": [
        "Random Forest\n"
      ]
    },
    {
      "cell_type": "code",
      "metadata": {
        "id": "nCav0V3RAGc5",
        "colab_type": "code",
        "colab": {
          "base_uri": "https://localhost:8080/",
          "height": 89
        },
        "outputId": "ef341423-4227-43a1-dfcb-a1ccb46ece7b"
      },
      "source": [
        "\n",
        "rf=RandomForestClassifier()\n",
        "rf.fit(x_train,y_train)\n",
        "accs(rf.predict(x_test),y_test)"
      ],
      "execution_count": 22,
      "outputs": [
        {
          "output_type": "stream",
          "text": [
            "/usr/local/lib/python3.6/dist-packages/sklearn/ensemble/forest.py:245: FutureWarning: The default value of n_estimators will change from 10 in version 0.20 to 100 in 0.22.\n",
            "  \"10 in version 0.20 to 100 in 0.22.\", FutureWarning)\n"
          ],
          "name": "stderr"
        },
        {
          "output_type": "execute_result",
          "data": {
            "text/plain": [
              "0.7213263272331945"
            ]
          },
          "metadata": {
            "tags": []
          },
          "execution_count": 22
        }
      ]
    },
    {
      "cell_type": "markdown",
      "metadata": {
        "id": "qCD09Qu3BBdy",
        "colab_type": "text"
      },
      "source": [
        "Multinomial NB"
      ]
    },
    {
      "cell_type": "code",
      "metadata": {
        "id": "LwWfHwMbAt0p",
        "colab_type": "code",
        "colab": {
          "base_uri": "https://localhost:8080/",
          "height": 35
        },
        "outputId": "be022b8b-a5e8-42b2-9151-ebbdd3a8a36b"
      },
      "source": [
        "nb=MultinomialNB()\n",
        "nb.fit(x_train,y_train)\n",
        "accs(nb.predict(x_test),y_test)"
      ],
      "execution_count": 23,
      "outputs": [
        {
          "output_type": "execute_result",
          "data": {
            "text/plain": [
              "0.7125083046445612"
            ]
          },
          "metadata": {
            "tags": []
          },
          "execution_count": 23
        }
      ]
    },
    {
      "cell_type": "markdown",
      "metadata": {
        "id": "vVVnpu1sBVf5",
        "colab_type": "text"
      },
      "source": [
        "KNN Classifier"
      ]
    },
    {
      "cell_type": "code",
      "metadata": {
        "id": "--1A-AU7BRlX",
        "colab_type": "code",
        "colab": {
          "base_uri": "https://localhost:8080/",
          "height": 35
        },
        "outputId": "2f43cfab-2022-40fb-cf45-526a71f8866b"
      },
      "source": [
        "knn=KNeighborsClassifier(n_neighbors=5)\n",
        "knn.fit(x_train,y_train)\n",
        "accs(knn.predict(x_test),y_test)"
      ],
      "execution_count": 24,
      "outputs": [
        {
          "output_type": "execute_result",
          "data": {
            "text/plain": [
              "0.6742163435404964"
            ]
          },
          "metadata": {
            "tags": []
          },
          "execution_count": 24
        }
      ]
    },
    {
      "cell_type": "markdown",
      "metadata": {
        "id": "fgu9iPUSqhXI",
        "colab_type": "text"
      },
      "source": [
        "Decision Tree"
      ]
    },
    {
      "cell_type": "code",
      "metadata": {
        "id": "8en1FOJNTQE9",
        "colab_type": "code",
        "colab": {
          "base_uri": "https://localhost:8080/",
          "height": 35
        },
        "outputId": "8774ff9d-f04d-44d9-ea3c-8999c9cf5a1a"
      },
      "source": [
        "tree=DecisionTreeClassifier()\n",
        "tree.fit(x_train,y_train)\n",
        "accs(tree.predict(x_test),y_test)"
      ],
      "execution_count": 25,
      "outputs": [
        {
          "output_type": "execute_result",
          "data": {
            "text/plain": [
              "0.6958990155221356"
            ]
          },
          "metadata": {
            "tags": []
          },
          "execution_count": 25
        }
      ]
    },
    {
      "cell_type": "markdown",
      "metadata": {
        "id": "5tVJuRltCY_4",
        "colab_type": "text"
      },
      "source": [
        "Analysis on the 'body' Column"
      ]
    },
    {
      "cell_type": "markdown",
      "metadata": {
        "id": "E_ssUylFDZpo",
        "colab_type": "text"
      },
      "source": [
        "Tfid Vectorizer"
      ]
    },
    {
      "cell_type": "code",
      "metadata": {
        "id": "KCevNuyjB34Y",
        "colab_type": "code",
        "colab": {}
      },
      "source": [
        "tf=TfidfVectorizer()\n",
        "t2=tf.fit_transform(df2['body'])"
      ],
      "execution_count": 0,
      "outputs": []
    },
    {
      "cell_type": "code",
      "metadata": {
        "id": "T8L5giiDCuSd",
        "colab_type": "code",
        "colab": {}
      },
      "source": [
        "x_train,x_test=train_test_split(t2,train_size=0.8,random_state=1)\n",
        "y_train,y_test=train_test_split(df2['rating'],train_size=0.8,random_state=1)\n"
      ],
      "execution_count": 0,
      "outputs": []
    },
    {
      "cell_type": "markdown",
      "metadata": {
        "id": "l9yV5SOtDdGG",
        "colab_type": "text"
      },
      "source": [
        "Mutinomial NB"
      ]
    },
    {
      "cell_type": "code",
      "metadata": {
        "id": "kJklPUcqDYB1",
        "colab_type": "code",
        "colab": {
          "base_uri": "https://localhost:8080/",
          "height": 35
        },
        "outputId": "4a54b397-cb70-4434-8c0b-847af03c6e43"
      },
      "source": [
        "nb=MultinomialNB()\n",
        "nb.fit(x_train,y_train)\n",
        "accs(nb.predict(x_test),y_test)"
      ],
      "execution_count": 28,
      "outputs": [
        {
          "output_type": "execute_result",
          "data": {
            "text/plain": [
              "0.6588754001328743"
            ]
          },
          "metadata": {
            "tags": []
          },
          "execution_count": 28
        }
      ]
    },
    {
      "cell_type": "markdown",
      "metadata": {
        "id": "OGMO6v5HD2wj",
        "colab_type": "text"
      },
      "source": [
        "Random Forest"
      ]
    },
    {
      "cell_type": "code",
      "metadata": {
        "id": "o5QEpBtlD1TR",
        "colab_type": "code",
        "colab": {
          "base_uri": "https://localhost:8080/",
          "height": 89
        },
        "outputId": "78d5ba7a-e31d-4f7d-94bf-98120f81c35a"
      },
      "source": [
        "rf=RandomForestClassifier()\n",
        "rf.fit(x_train,y_train)\n",
        "accs(rf.predict(x_test),y_test)"
      ],
      "execution_count": 29,
      "outputs": [
        {
          "output_type": "stream",
          "text": [
            "/usr/local/lib/python3.6/dist-packages/sklearn/ensemble/forest.py:245: FutureWarning: The default value of n_estimators will change from 10 in version 0.20 to 100 in 0.22.\n",
            "  \"10 in version 0.20 to 100 in 0.22.\", FutureWarning)\n"
          ],
          "name": "stderr"
        },
        {
          "output_type": "execute_result",
          "data": {
            "text/plain": [
              "0.6824907893942139"
            ]
          },
          "metadata": {
            "tags": []
          },
          "execution_count": 29
        }
      ]
    },
    {
      "cell_type": "markdown",
      "metadata": {
        "id": "oyg-tBfeEG7t",
        "colab_type": "text"
      },
      "source": [
        "KNN"
      ]
    },
    {
      "cell_type": "code",
      "metadata": {
        "id": "noq23jW3EEhk",
        "colab_type": "code",
        "colab": {
          "base_uri": "https://localhost:8080/",
          "height": 35
        },
        "outputId": "fb92e1c0-e8bb-40ad-95b5-47d6cb192707"
      },
      "source": [
        "knn=KNeighborsClassifier()\n",
        "knn.fit(x_train,y_train)\n",
        "accs(knn.predict(x_test),y_test)"
      ],
      "execution_count": 30,
      "outputs": [
        {
          "output_type": "execute_result",
          "data": {
            "text/plain": [
              "0.5532403213142477"
            ]
          },
          "metadata": {
            "tags": []
          },
          "execution_count": 30
        }
      ]
    },
    {
      "cell_type": "code",
      "metadata": {
        "id": "CvotRWFAE1ym",
        "colab_type": "code",
        "colab": {}
      },
      "source": [
        "df2=df2.drop('asin',axis=1)\n",
        "df2=df2.drop('date',axis=1)\n",
        "df2=df2.drop('name',axis=1)"
      ],
      "execution_count": 0,
      "outputs": []
    },
    {
      "cell_type": "markdown",
      "metadata": {
        "id": "x662D_zhSqE9",
        "colab_type": "text"
      },
      "source": [
        "Decison Tree Classifier"
      ]
    },
    {
      "cell_type": "code",
      "metadata": {
        "id": "6l4jgWVYSs3_",
        "colab_type": "code",
        "colab": {
          "base_uri": "https://localhost:8080/",
          "height": 35
        },
        "outputId": "94d51e38-f8af-41f7-8706-3801e2eb0195"
      },
      "source": [
        "tree=DecisionTreeClassifier(max_depth=3)\n",
        "tree.fit(x_train,y_train)\n",
        "accs(tree.predict(x_test),y_test)"
      ],
      "execution_count": 32,
      "outputs": [
        {
          "output_type": "execute_result",
          "data": {
            "text/plain": [
              "0.5862173098991363"
            ]
          },
          "metadata": {
            "tags": []
          },
          "execution_count": 32
        }
      ]
    },
    {
      "cell_type": "code",
      "metadata": {
        "id": "qDfnMe_rMOzC",
        "colab_type": "code",
        "colab": {}
      },
      "source": [
        "tf=TfidfVectorizer()"
      ],
      "execution_count": 0,
      "outputs": []
    },
    {
      "cell_type": "code",
      "metadata": {
        "id": "zKJwcyuWMXAS",
        "colab_type": "code",
        "colab": {}
      },
      "source": [
        "df2=df2.dropna(axis=0,subset=['title'])\n",
        "df2=df2.dropna(axis=0,subset=['body'])"
      ],
      "execution_count": 0,
      "outputs": []
    },
    {
      "cell_type": "markdown",
      "metadata": {
        "id": "qNtAjIR1N6k1",
        "colab_type": "text"
      },
      "source": [
        "NMF"
      ]
    },
    {
      "cell_type": "code",
      "metadata": {
        "id": "_KQyKv0QNIqV",
        "colab_type": "code",
        "colab": {}
      },
      "source": [
        "nmf=NMF(n_components=10)"
      ],
      "execution_count": 0,
      "outputs": []
    },
    {
      "cell_type": "code",
      "metadata": {
        "id": "tquDtJLDOAp4",
        "colab_type": "code",
        "colab": {}
      },
      "source": [
        "t_decomposed=nmf.fit_transform(t)"
      ],
      "execution_count": 0,
      "outputs": []
    },
    {
      "cell_type": "code",
      "metadata": {
        "id": "R24rcxwxOj1Y",
        "colab_type": "code",
        "colab": {}
      },
      "source": [
        "b_decomposed=nmf.fit_transform(t2)"
      ],
      "execution_count": 0,
      "outputs": []
    },
    {
      "cell_type": "code",
      "metadata": {
        "id": "Bzqri-7TOpiV",
        "colab_type": "code",
        "colab": {
          "base_uri": "https://localhost:8080/",
          "height": 202
        },
        "outputId": "d6508ac8-dc41-463b-db68-16bf32fa77fd"
      },
      "source": [
        "df2.head()"
      ],
      "execution_count": 38,
      "outputs": [
        {
          "output_type": "execute_result",
          "data": {
            "text/html": [
              "<div>\n",
              "<style scoped>\n",
              "    .dataframe tbody tr th:only-of-type {\n",
              "        vertical-align: middle;\n",
              "    }\n",
              "\n",
              "    .dataframe tbody tr th {\n",
              "        vertical-align: top;\n",
              "    }\n",
              "\n",
              "    .dataframe thead th {\n",
              "        text-align: right;\n",
              "    }\n",
              "</style>\n",
              "<table border=\"1\" class=\"dataframe\">\n",
              "  <thead>\n",
              "    <tr style=\"text-align: right;\">\n",
              "      <th></th>\n",
              "      <th>rating</th>\n",
              "      <th>verified</th>\n",
              "      <th>title</th>\n",
              "      <th>body</th>\n",
              "      <th>helpfulVotes</th>\n",
              "    </tr>\n",
              "  </thead>\n",
              "  <tbody>\n",
              "    <tr>\n",
              "      <th>0</th>\n",
              "      <td>3</td>\n",
              "      <td>0</td>\n",
              "      <td>Def not best, but not worst</td>\n",
              "      <td>I had the Samsung A600 for awhile which is abs...</td>\n",
              "      <td>1</td>\n",
              "    </tr>\n",
              "    <tr>\n",
              "      <th>1</th>\n",
              "      <td>1</td>\n",
              "      <td>0</td>\n",
              "      <td>Text Messaging Doesn't Work</td>\n",
              "      <td>Due to a software issue between Nokia and Spri...</td>\n",
              "      <td>17</td>\n",
              "    </tr>\n",
              "    <tr>\n",
              "      <th>2</th>\n",
              "      <td>5</td>\n",
              "      <td>0</td>\n",
              "      <td>Love This Phone</td>\n",
              "      <td>This is a great, reliable phone. I also purcha...</td>\n",
              "      <td>5</td>\n",
              "    </tr>\n",
              "    <tr>\n",
              "      <th>3</th>\n",
              "      <td>3</td>\n",
              "      <td>0</td>\n",
              "      <td>Love the Phone, BUT...!</td>\n",
              "      <td>I love the phone and all, because I really did...</td>\n",
              "      <td>1</td>\n",
              "    </tr>\n",
              "    <tr>\n",
              "      <th>4</th>\n",
              "      <td>4</td>\n",
              "      <td>0</td>\n",
              "      <td>Great phone service and options, lousy case!</td>\n",
              "      <td>The phone has been great for every purpose it ...</td>\n",
              "      <td>1</td>\n",
              "    </tr>\n",
              "  </tbody>\n",
              "</table>\n",
              "</div>"
            ],
            "text/plain": [
              "   rating  ...  helpfulVotes\n",
              "0       3  ...             1\n",
              "1       1  ...            17\n",
              "2       5  ...             5\n",
              "3       3  ...             1\n",
              "4       4  ...             1\n",
              "\n",
              "[5 rows x 5 columns]"
            ]
          },
          "metadata": {
            "tags": []
          },
          "execution_count": 38
        }
      ]
    },
    {
      "cell_type": "code",
      "metadata": {
        "id": "6xPCZrCZOtrW",
        "colab_type": "code",
        "colab": {}
      },
      "source": [
        "df2=df2.drop('title',axis=1)\n",
        "df2=df2.drop('body',axis=1)"
      ],
      "execution_count": 0,
      "outputs": []
    },
    {
      "cell_type": "code",
      "metadata": {
        "id": "WtffrVdYPMda",
        "colab_type": "code",
        "colab": {
          "base_uri": "https://localhost:8080/",
          "height": 87
        },
        "outputId": "0e6e0280-850e-42ab-82f9-66a6f83ff9b7"
      },
      "source": [
        "df2.isnull().sum()"
      ],
      "execution_count": 40,
      "outputs": [
        {
          "output_type": "execute_result",
          "data": {
            "text/plain": [
              "rating          0\n",
              "verified        0\n",
              "helpfulVotes    0\n",
              "dtype: int64"
            ]
          },
          "metadata": {
            "tags": []
          },
          "execution_count": 40
        }
      ]
    },
    {
      "cell_type": "code",
      "metadata": {
        "id": "p3L39koqPRGC",
        "colab_type": "code",
        "colab": {
          "base_uri": "https://localhost:8080/",
          "height": 202
        },
        "outputId": "dbf9235f-2b0f-47b9-fce1-60bc3408b756"
      },
      "source": [
        "df2.head()"
      ],
      "execution_count": 41,
      "outputs": [
        {
          "output_type": "execute_result",
          "data": {
            "text/html": [
              "<div>\n",
              "<style scoped>\n",
              "    .dataframe tbody tr th:only-of-type {\n",
              "        vertical-align: middle;\n",
              "    }\n",
              "\n",
              "    .dataframe tbody tr th {\n",
              "        vertical-align: top;\n",
              "    }\n",
              "\n",
              "    .dataframe thead th {\n",
              "        text-align: right;\n",
              "    }\n",
              "</style>\n",
              "<table border=\"1\" class=\"dataframe\">\n",
              "  <thead>\n",
              "    <tr style=\"text-align: right;\">\n",
              "      <th></th>\n",
              "      <th>rating</th>\n",
              "      <th>verified</th>\n",
              "      <th>helpfulVotes</th>\n",
              "    </tr>\n",
              "  </thead>\n",
              "  <tbody>\n",
              "    <tr>\n",
              "      <th>0</th>\n",
              "      <td>3</td>\n",
              "      <td>0</td>\n",
              "      <td>1</td>\n",
              "    </tr>\n",
              "    <tr>\n",
              "      <th>1</th>\n",
              "      <td>1</td>\n",
              "      <td>0</td>\n",
              "      <td>17</td>\n",
              "    </tr>\n",
              "    <tr>\n",
              "      <th>2</th>\n",
              "      <td>5</td>\n",
              "      <td>0</td>\n",
              "      <td>5</td>\n",
              "    </tr>\n",
              "    <tr>\n",
              "      <th>3</th>\n",
              "      <td>3</td>\n",
              "      <td>0</td>\n",
              "      <td>1</td>\n",
              "    </tr>\n",
              "    <tr>\n",
              "      <th>4</th>\n",
              "      <td>4</td>\n",
              "      <td>0</td>\n",
              "      <td>1</td>\n",
              "    </tr>\n",
              "  </tbody>\n",
              "</table>\n",
              "</div>"
            ],
            "text/plain": [
              "   rating  verified  helpfulVotes\n",
              "0       3         0             1\n",
              "1       1         0            17\n",
              "2       5         0             5\n",
              "3       3         0             1\n",
              "4       4         0             1"
            ]
          },
          "metadata": {
            "tags": []
          },
          "execution_count": 41
        }
      ]
    },
    {
      "cell_type": "code",
      "metadata": {
        "id": "xv0xe-YcPfOA",
        "colab_type": "code",
        "colab": {}
      },
      "source": [
        "t_decomposed_df=pd.DataFrame(t_decomposed)\n",
        "b_decomposed_df=pd.DataFrame(b_decomposed)"
      ],
      "execution_count": 0,
      "outputs": []
    },
    {
      "cell_type": "code",
      "metadata": {
        "id": "WV6krfsUPuzd",
        "colab_type": "code",
        "colab": {
          "base_uri": "https://localhost:8080/",
          "height": 208
        },
        "outputId": "e8cc9585-9309-4501-99f0-b589763f801e"
      },
      "source": [
        "t_decomposed_df.isnull().sum()"
      ],
      "execution_count": 43,
      "outputs": [
        {
          "output_type": "execute_result",
          "data": {
            "text/plain": [
              "0    0\n",
              "1    0\n",
              "2    0\n",
              "3    0\n",
              "4    0\n",
              "5    0\n",
              "6    0\n",
              "7    0\n",
              "8    0\n",
              "9    0\n",
              "dtype: int64"
            ]
          },
          "metadata": {
            "tags": []
          },
          "execution_count": 43
        }
      ]
    },
    {
      "cell_type": "code",
      "metadata": {
        "id": "l7b8_UnRP1Fk",
        "colab_type": "code",
        "colab": {
          "base_uri": "https://localhost:8080/",
          "height": 208
        },
        "outputId": "617f16fc-2e3d-4537-9f0b-165f07dbf13c"
      },
      "source": [
        "b_decomposed_df.isnull().sum()"
      ],
      "execution_count": 44,
      "outputs": [
        {
          "output_type": "execute_result",
          "data": {
            "text/plain": [
              "0    0\n",
              "1    0\n",
              "2    0\n",
              "3    0\n",
              "4    0\n",
              "5    0\n",
              "6    0\n",
              "7    0\n",
              "8    0\n",
              "9    0\n",
              "dtype: int64"
            ]
          },
          "metadata": {
            "tags": []
          },
          "execution_count": 44
        }
      ]
    },
    {
      "cell_type": "code",
      "metadata": {
        "id": "fF27jrdhP32d",
        "colab_type": "code",
        "colab": {}
      },
      "source": [
        "for i in range(b_decomposed_df.shape[1]):\n",
        "    t_decomposed_df[i+10]=b_decomposed_df[i]\n",
        "t_decomposed_df[20]=df2['verified']\n",
        "t_decomposed_df[21]=df2['helpfulVotes']"
      ],
      "execution_count": 0,
      "outputs": []
    },
    {
      "cell_type": "code",
      "metadata": {
        "id": "0gNUf_cPQPqE",
        "colab_type": "code",
        "colab": {
          "base_uri": "https://localhost:8080/",
          "height": 416
        },
        "outputId": "c4ca0003-3ca9-428f-8666-919d37af18fa"
      },
      "source": [
        "t_decomposed_df[20] = t_decomposed_df[20].fillna(0)\n",
        "t_decomposed_df[21] = t_decomposed_df[21].fillna(0)\n",
        "t_decomposed_df.isnull().sum()"
      ],
      "execution_count": 46,
      "outputs": [
        {
          "output_type": "execute_result",
          "data": {
            "text/plain": [
              "0     0\n",
              "1     0\n",
              "2     0\n",
              "3     0\n",
              "4     0\n",
              "5     0\n",
              "6     0\n",
              "7     0\n",
              "8     0\n",
              "9     0\n",
              "10    0\n",
              "11    0\n",
              "12    0\n",
              "13    0\n",
              "14    0\n",
              "15    0\n",
              "16    0\n",
              "17    0\n",
              "18    0\n",
              "19    0\n",
              "20    0\n",
              "21    0\n",
              "dtype: int64"
            ]
          },
          "metadata": {
            "tags": []
          },
          "execution_count": 46
        }
      ]
    },
    {
      "cell_type": "code",
      "metadata": {
        "id": "5pvShO9SQbnM",
        "colab_type": "code",
        "colab": {}
      },
      "source": [
        "X_train,X_test,Y_train,Y_test= train_test_split(t_decomposed_df,df2.rating, random_state=1,test_size=0.2)"
      ],
      "execution_count": 0,
      "outputs": []
    },
    {
      "cell_type": "markdown",
      "metadata": {
        "id": "T0P_IeEFQ7M3",
        "colab_type": "text"
      },
      "source": [
        "Multinomial NB"
      ]
    },
    {
      "cell_type": "code",
      "metadata": {
        "id": "xrhD9TfyQ2NM",
        "colab_type": "code",
        "colab": {}
      },
      "source": [
        "nb=MultinomialNB()"
      ],
      "execution_count": 0,
      "outputs": []
    },
    {
      "cell_type": "code",
      "metadata": {
        "id": "4sKhoBhQRR5F",
        "colab_type": "code",
        "colab": {
          "base_uri": "https://localhost:8080/",
          "height": 416
        },
        "outputId": "549075d9-d1de-4685-839e-05b2dd933d8f"
      },
      "source": [
        "X_train.isnull().sum()"
      ],
      "execution_count": 49,
      "outputs": [
        {
          "output_type": "execute_result",
          "data": {
            "text/plain": [
              "0     0\n",
              "1     0\n",
              "2     0\n",
              "3     0\n",
              "4     0\n",
              "5     0\n",
              "6     0\n",
              "7     0\n",
              "8     0\n",
              "9     0\n",
              "10    0\n",
              "11    0\n",
              "12    0\n",
              "13    0\n",
              "14    0\n",
              "15    0\n",
              "16    0\n",
              "17    0\n",
              "18    0\n",
              "19    0\n",
              "20    0\n",
              "21    0\n",
              "dtype: int64"
            ]
          },
          "metadata": {
            "tags": []
          },
          "execution_count": 49
        }
      ]
    },
    {
      "cell_type": "code",
      "metadata": {
        "id": "Jh7g0Da9RcMq",
        "colab_type": "code",
        "colab": {
          "base_uri": "https://localhost:8080/",
          "height": 35
        },
        "outputId": "e458cea5-8ca3-4b61-a111-8c5b2cbd3722"
      },
      "source": [
        "nb.fit(X_train,Y_train)\n",
        "accs(nb.predict(X_test),Y_test)"
      ],
      "execution_count": 50,
      "outputs": [
        {
          "output_type": "execute_result",
          "data": {
            "text/plain": [
              "0.5315576493326085"
            ]
          },
          "metadata": {
            "tags": []
          },
          "execution_count": 50
        }
      ]
    },
    {
      "cell_type": "markdown",
      "metadata": {
        "id": "15dnlATbSHnR",
        "colab_type": "text"
      },
      "source": [
        "Random Forest"
      ]
    },
    {
      "cell_type": "code",
      "metadata": {
        "id": "8UIi3GrcSEgS",
        "colab_type": "code",
        "colab": {
          "base_uri": "https://localhost:8080/",
          "height": 89
        },
        "outputId": "96e21c23-1d44-4fe7-f5f1-aba5d863812e"
      },
      "source": [
        "rf=RandomForestClassifier()\n",
        "rf.fit(X_train,Y_train)\n",
        "accs(rf.predict(X_test),Y_test)"
      ],
      "execution_count": 51,
      "outputs": [
        {
          "output_type": "stream",
          "text": [
            "/usr/local/lib/python3.6/dist-packages/sklearn/ensemble/forest.py:245: FutureWarning: The default value of n_estimators will change from 10 in version 0.20 to 100 in 0.22.\n",
            "  \"10 in version 0.20 to 100 in 0.22.\", FutureWarning)\n"
          ],
          "name": "stderr"
        },
        {
          "output_type": "execute_result",
          "data": {
            "text/plain": [
              "0.695657425862173"
            ]
          },
          "metadata": {
            "tags": []
          },
          "execution_count": 51
        }
      ]
    },
    {
      "cell_type": "markdown",
      "metadata": {
        "id": "CTeYgBLoT2OR",
        "colab_type": "text"
      },
      "source": [
        "KNN"
      ]
    },
    {
      "cell_type": "code",
      "metadata": {
        "id": "cqoc9-3fSZ4M",
        "colab_type": "code",
        "colab": {
          "base_uri": "https://localhost:8080/",
          "height": 35
        },
        "outputId": "917f58e2-3854-4133-fbf2-d17b52c31ae0"
      },
      "source": [
        "knn=KNeighborsClassifier()\n",
        "knn.fit(X_train,Y_train)\n",
        "accs(knn.predict(X_test),Y_test)"
      ],
      "execution_count": 52,
      "outputs": [
        {
          "output_type": "execute_result",
          "data": {
            "text/plain": [
              "0.6130941595699704"
            ]
          },
          "metadata": {
            "tags": []
          },
          "execution_count": 52
        }
      ]
    },
    {
      "cell_type": "markdown",
      "metadata": {
        "id": "b3MDQVumUT2l",
        "colab_type": "text"
      },
      "source": [
        "Decision Tree"
      ]
    },
    {
      "cell_type": "code",
      "metadata": {
        "id": "JYT4py7fUEq0",
        "colab_type": "code",
        "colab": {
          "base_uri": "https://localhost:8080/",
          "height": 35
        },
        "outputId": "7e9182a5-40be-4031-dfe6-a6cc30fda71d"
      },
      "source": [
        "tree=DecisionTreeClassifier()\n",
        "tree.fit(X_train,Y_train)\n",
        "accs(tree.predict(X_test),Y_test)"
      ],
      "execution_count": 53,
      "outputs": [
        {
          "output_type": "execute_result",
          "data": {
            "text/plain": [
              "0.6120674035151296"
            ]
          },
          "metadata": {
            "tags": []
          },
          "execution_count": 53
        }
      ]
    },
    {
      "cell_type": "markdown",
      "metadata": {
        "id": "VfiZ1qWaVY8z",
        "colab_type": "text"
      },
      "source": [
        "Nueral Networks"
      ]
    },
    {
      "cell_type": "code",
      "metadata": {
        "id": "g1xybRE9UiXq",
        "colab_type": "code",
        "colab": {}
      },
      "source": [
        "nue_df = pd.read_csv(io.BytesIO(files_upload['20190928-reviews.csv']))"
      ],
      "execution_count": 0,
      "outputs": []
    },
    {
      "cell_type": "code",
      "metadata": {
        "id": "p0ddrsqtViAj",
        "colab_type": "code",
        "colab": {
          "base_uri": "https://localhost:8080/",
          "height": 225
        },
        "outputId": "93c197aa-4bce-4305-b44f-09f091c7ff88"
      },
      "source": [
        "nue_df.body"
      ],
      "execution_count": 55,
      "outputs": [
        {
          "output_type": "execute_result",
          "data": {
            "text/plain": [
              "0        I had the Samsung A600 for awhile which is abs...\n",
              "1        Due to a software issue between Nokia and Spri...\n",
              "2        This is a great, reliable phone. I also purcha...\n",
              "3        I love the phone and all, because I really did...\n",
              "4        The phone has been great for every purpose it ...\n",
              "                               ...                        \n",
              "82810                            Best phone at this price.\n",
              "82811    If you intend to use this phone on T Mobile be...\n",
              "82812    Here is my Moto G7 Play complaint: It freezes ...\n",
              "82813    As far as function works great camera no go wo...\n",
              "82814    What a great phone! Sleek, fast, great soundin...\n",
              "Name: body, Length: 82815, dtype: object"
            ]
          },
          "metadata": {
            "tags": []
          },
          "execution_count": 55
        }
      ]
    },
    {
      "cell_type": "code",
      "metadata": {
        "id": "tMrCLvkGWHdU",
        "colab_type": "code",
        "colab": {
          "base_uri": "https://localhost:8080/",
          "height": 35
        },
        "outputId": "0eb40174-8e3b-4814-fa63-e012454cfd7d"
      },
      "source": [
        "from matplotlib import pyplot\n",
        "from matplotlib import pylab\n",
        "import sklearn.datasets\n",
        "import numpy as np\n",
        "import keras\n",
        "import keras.datasets\n",
        "from keras.models import Sequential\n",
        "from keras.layers import Dense, Dropout, Flatten, Embedding, LSTM, GRU, Input\n",
        "from keras.layers import Conv2D, MaxPooling2D, Conv1D,MaxPooling1D\n",
        "from keras import backend as K\n",
        "from keras.preprocessing.text import Tokenizer, hashing_trick\n",
        "from keras.preprocessing.sequence import pad_sequences\n",
        "import re"
      ],
      "execution_count": 56,
      "outputs": [
        {
          "output_type": "stream",
          "text": [
            "Using TensorFlow backend.\n"
          ],
          "name": "stderr"
        }
      ]
    },
    {
      "cell_type": "code",
      "metadata": {
        "id": "lWXIPVetWWCU",
        "colab_type": "code",
        "colab": {
          "base_uri": "https://localhost:8080/",
          "height": 225
        },
        "outputId": "01dda339-71c3-4ec6-ee56-ca1601dbed03"
      },
      "source": [
        "train,test= train_test_split(nue_df,train_size=0.8,random_state=1)\n",
        "train.body"
      ],
      "execution_count": 57,
      "outputs": [
        {
          "output_type": "execute_result",
          "data": {
            "text/plain": [
              "52090    So I bought this phone and took it to a local ...\n",
              "77124    It has an extremely long battery life, I still...\n",
              "34046    I sent this item to the Caribbean and the repo...\n",
              "5292                                           GOOD I LIKE\n",
              "14288    This is a great phone. Others have mentioned i...\n",
              "                               ...                        \n",
              "21440    this Phone had a big scratch on the top..and t...\n",
              "73349    No wonder this is known to be the king of smar...\n",
              "50057    I was skeptical ordering a refurbished phone a...\n",
              "5192           Came as described! Saved $70 not buying new\n",
              "77708                                                 Good\n",
              "Name: body, Length: 66252, dtype: object"
            ]
          },
          "metadata": {
            "tags": []
          },
          "execution_count": 57
        }
      ]
    },
    {
      "cell_type": "code",
      "metadata": {
        "id": "sgfinPUVXF1d",
        "colab_type": "code",
        "colab": {
          "base_uri": "https://localhost:8080/",
          "height": 173
        },
        "outputId": "ab4da7c1-8d0b-4211-f2b9-a01a31a033f5"
      },
      "source": [
        "tokenizer=Tokenizer(num_words=2000)\n",
        "train.dtypes"
      ],
      "execution_count": 58,
      "outputs": [
        {
          "output_type": "execute_result",
          "data": {
            "text/plain": [
              "asin             object\n",
              "name             object\n",
              "rating            int64\n",
              "date             object\n",
              "verified           bool\n",
              "title            object\n",
              "body             object\n",
              "helpfulVotes    float64\n",
              "dtype: object"
            ]
          },
          "metadata": {
            "tags": []
          },
          "execution_count": 58
        }
      ]
    },
    {
      "cell_type": "code",
      "metadata": {
        "id": "scWU216NXbCq",
        "colab_type": "code",
        "colab": {
          "base_uri": "https://localhost:8080/",
          "height": 121
        },
        "outputId": "29a6ab55-4dc1-44d4-9ffd-a9657b14a83b"
      },
      "source": [
        "train.body=train.body.str.replace(r'\\d+', '')\n",
        "test.body=test.body.str.replace(r'\\d+', '')"
      ],
      "execution_count": 59,
      "outputs": [
        {
          "output_type": "stream",
          "text": [
            "/usr/local/lib/python3.6/dist-packages/pandas/core/generic.py:5208: SettingWithCopyWarning: \n",
            "A value is trying to be set on a copy of a slice from a DataFrame.\n",
            "Try using .loc[row_indexer,col_indexer] = value instead\n",
            "\n",
            "See the caveats in the documentation: http://pandas.pydata.org/pandas-docs/stable/user_guide/indexing.html#returning-a-view-versus-a-copy\n",
            "  self[name] = value\n"
          ],
          "name": "stderr"
        }
      ]
    },
    {
      "cell_type": "code",
      "metadata": {
        "id": "gluVmimqK7Xh",
        "colab_type": "code",
        "colab": {
          "base_uri": "https://localhost:8080/",
          "height": 121
        },
        "outputId": "d5278024-e981-48fe-d5db-1680e2009317"
      },
      "source": [
        "train.body=train.body.str.lower()\n",
        "test.body=test.body.str.lower()"
      ],
      "execution_count": 60,
      "outputs": [
        {
          "output_type": "stream",
          "text": [
            "/usr/local/lib/python3.6/dist-packages/pandas/core/generic.py:5208: SettingWithCopyWarning: \n",
            "A value is trying to be set on a copy of a slice from a DataFrame.\n",
            "Try using .loc[row_indexer,col_indexer] = value instead\n",
            "\n",
            "See the caveats in the documentation: http://pandas.pydata.org/pandas-docs/stable/user_guide/indexing.html#returning-a-view-versus-a-copy\n",
            "  self[name] = value\n"
          ],
          "name": "stderr"
        }
      ]
    },
    {
      "cell_type": "code",
      "metadata": {
        "id": "IiZaapd-YIO-",
        "colab_type": "code",
        "colab": {}
      },
      "source": [
        "train=train[train['body'].apply(lambda x: isinstance(x, str))]\n",
        "test=test[test['body'].apply(lambda x: isinstance(x, str))]"
      ],
      "execution_count": 0,
      "outputs": []
    },
    {
      "cell_type": "code",
      "metadata": {
        "id": "tP9CwZakAWl_",
        "colab_type": "code",
        "colab": {
          "base_uri": "https://localhost:8080/",
          "height": 225
        },
        "outputId": "2028dfb3-73bc-41ef-e59e-20828b6adf9f"
      },
      "source": [
        "train.body"
      ],
      "execution_count": 62,
      "outputs": [
        {
          "output_type": "execute_result",
          "data": {
            "text/plain": [
              "52090    so i bought this phone and took it to a local ...\n",
              "77124    it has an extremely long battery life, i still...\n",
              "34046    i sent this item to the caribbean and the repo...\n",
              "5292                                           good i like\n",
              "14288    this is a great phone. others have mentioned i...\n",
              "                               ...                        \n",
              "21440    this phone had a big scratch on the top..and t...\n",
              "73349    no wonder this is known to be the king of smar...\n",
              "50057    i was skeptical ordering a refurbished phone a...\n",
              "5192             came as described! saved $ not buying new\n",
              "77708                                                 good\n",
              "Name: body, Length: 66235, dtype: object"
            ]
          },
          "metadata": {
            "tags": []
          },
          "execution_count": 62
        }
      ]
    },
    {
      "cell_type": "code",
      "metadata": {
        "id": "OG-fOjnnYMnx",
        "colab_type": "code",
        "colab": {}
      },
      "source": [
        "tokenizer.fit_on_texts(train.body)"
      ],
      "execution_count": 0,
      "outputs": []
    },
    {
      "cell_type": "code",
      "metadata": {
        "id": "H5eyG4yoYjH_",
        "colab_type": "code",
        "colab": {
          "base_uri": "https://localhost:8080/",
          "height": 121
        },
        "outputId": "25853f05-8504-4e62-e6eb-bf1cdf6afedd"
      },
      "source": [
        "train.rating.value_counts()"
      ],
      "execution_count": 64,
      "outputs": [
        {
          "output_type": "execute_result",
          "data": {
            "text/plain": [
              "5    35964\n",
              "1    13145\n",
              "4     8572\n",
              "3     4638\n",
              "2     3916\n",
              "Name: rating, dtype: int64"
            ]
          },
          "metadata": {
            "tags": []
          },
          "execution_count": 64
        }
      ]
    },
    {
      "cell_type": "code",
      "metadata": {
        "id": "sOpPOBbaYmZM",
        "colab_type": "code",
        "colab": {}
      },
      "source": [
        "train_Y=keras.utils.to_categorical(train.rating)\n",
        "test_Y=keras.utils.to_categorical(test.rating)\n"
      ],
      "execution_count": 0,
      "outputs": []
    },
    {
      "cell_type": "code",
      "metadata": {
        "id": "TPfWL7bVYrSU",
        "colab_type": "code",
        "colab": {}
      },
      "source": [
        "train_X = pad_sequences(tokenizer.texts_to_sequences(train.body.values), 33)\n",
        "test_X = pad_sequences(tokenizer.texts_to_sequences(test.body.values),33)"
      ],
      "execution_count": 0,
      "outputs": []
    },
    {
      "cell_type": "code",
      "metadata": {
        "id": "fnDIOajWYwoL",
        "colab_type": "code",
        "colab": {
          "base_uri": "https://localhost:8080/",
          "height": 332
        },
        "outputId": "9e839ad1-919d-4383-970e-825ab50a7649"
      },
      "source": [
        "embed_dim = 128\n",
        "lstm_out = 196\n",
        "max_features = 2000\n",
        "model = Sequential()\n",
        "model.add(Embedding(tokenizer.num_words, tokenizer.num_words, input_length=33))\n",
        "model.add(Conv1D(66, kernel_size=3, activation='relu'))\n",
        "model.add(Conv1D(66, kernel_size=3, activation='relu'))\n",
        "model.add(MaxPooling1D(pool_size=2))\n",
        "model.add(Dropout(.5))\n",
        "model.add(Conv1D(33, kernel_size=3, activation='relu'))\n",
        "model.add(MaxPooling1D(pool_size=2))\n",
        "model.add(Flatten())\n",
        "model.add(Dropout(.5))\n",
        "model.add(Dense(6,activation='softmax'))\n",
        "model.compile(loss = 'categorical_crossentropy', optimizer='adam',metrics = ['accuracy'])"
      ],
      "execution_count": 67,
      "outputs": [
        {
          "output_type": "stream",
          "text": [
            "WARNING:tensorflow:From /usr/local/lib/python3.6/dist-packages/keras/backend/tensorflow_backend.py:66: The name tf.get_default_graph is deprecated. Please use tf.compat.v1.get_default_graph instead.\n",
            "\n",
            "WARNING:tensorflow:From /usr/local/lib/python3.6/dist-packages/keras/backend/tensorflow_backend.py:541: The name tf.placeholder is deprecated. Please use tf.compat.v1.placeholder instead.\n",
            "\n",
            "WARNING:tensorflow:From /usr/local/lib/python3.6/dist-packages/keras/backend/tensorflow_backend.py:4432: The name tf.random_uniform is deprecated. Please use tf.random.uniform instead.\n",
            "\n",
            "WARNING:tensorflow:From /usr/local/lib/python3.6/dist-packages/keras/backend/tensorflow_backend.py:4267: The name tf.nn.max_pool is deprecated. Please use tf.nn.max_pool2d instead.\n",
            "\n",
            "WARNING:tensorflow:From /usr/local/lib/python3.6/dist-packages/keras/backend/tensorflow_backend.py:148: The name tf.placeholder_with_default is deprecated. Please use tf.compat.v1.placeholder_with_default instead.\n",
            "\n",
            "WARNING:tensorflow:From /usr/local/lib/python3.6/dist-packages/keras/backend/tensorflow_backend.py:3733: calling dropout (from tensorflow.python.ops.nn_ops) with keep_prob is deprecated and will be removed in a future version.\n",
            "Instructions for updating:\n",
            "Please use `rate` instead of `keep_prob`. Rate should be set to `rate = 1 - keep_prob`.\n",
            "WARNING:tensorflow:From /usr/local/lib/python3.6/dist-packages/keras/optimizers.py:793: The name tf.train.Optimizer is deprecated. Please use tf.compat.v1.train.Optimizer instead.\n",
            "\n",
            "WARNING:tensorflow:From /usr/local/lib/python3.6/dist-packages/keras/backend/tensorflow_backend.py:3576: The name tf.log is deprecated. Please use tf.math.log instead.\n",
            "\n"
          ],
          "name": "stdout"
        }
      ]
    },
    {
      "cell_type": "code",
      "metadata": {
        "id": "RL9y-6mWY803",
        "colab_type": "code",
        "colab": {
          "base_uri": "https://localhost:8080/",
          "height": 1000
        },
        "outputId": "dffc28b6-faaf-4006-9b49-5bd4c90151de"
      },
      "source": [
        "batch_size = 32\n",
        "model.fit( train_X, \n",
        "           train_Y,\n",
        "           epochs = 100, \n",
        "           batch_size=batch_size, \n",
        "           verbose = 1, \n",
        "           validation_data=(test_X, test_Y))"
      ],
      "execution_count": 68,
      "outputs": [
        {
          "output_type": "stream",
          "text": [
            "WARNING:tensorflow:From /usr/local/lib/python3.6/dist-packages/tensorflow_core/python/ops/math_grad.py:1424: where (from tensorflow.python.ops.array_ops) is deprecated and will be removed in a future version.\n",
            "Instructions for updating:\n",
            "Use tf.where in 2.0, which has the same broadcast rule as np.where\n",
            "WARNING:tensorflow:From /usr/local/lib/python3.6/dist-packages/keras/backend/tensorflow_backend.py:1033: The name tf.assign_add is deprecated. Please use tf.compat.v1.assign_add instead.\n",
            "\n",
            "WARNING:tensorflow:From /usr/local/lib/python3.6/dist-packages/keras/backend/tensorflow_backend.py:1020: The name tf.assign is deprecated. Please use tf.compat.v1.assign instead.\n",
            "\n",
            "WARNING:tensorflow:From /usr/local/lib/python3.6/dist-packages/keras/backend/tensorflow_backend.py:3005: The name tf.Session is deprecated. Please use tf.compat.v1.Session instead.\n",
            "\n",
            "Train on 66235 samples, validate on 16560 samples\n",
            "Epoch 1/100\n",
            "WARNING:tensorflow:From /usr/local/lib/python3.6/dist-packages/keras/backend/tensorflow_backend.py:190: The name tf.get_default_session is deprecated. Please use tf.compat.v1.get_default_session instead.\n",
            "\n",
            "WARNING:tensorflow:From /usr/local/lib/python3.6/dist-packages/keras/backend/tensorflow_backend.py:197: The name tf.ConfigProto is deprecated. Please use tf.compat.v1.ConfigProto instead.\n",
            "\n",
            "WARNING:tensorflow:From /usr/local/lib/python3.6/dist-packages/keras/backend/tensorflow_backend.py:207: The name tf.global_variables is deprecated. Please use tf.compat.v1.global_variables instead.\n",
            "\n",
            "WARNING:tensorflow:From /usr/local/lib/python3.6/dist-packages/keras/backend/tensorflow_backend.py:216: The name tf.is_variable_initialized is deprecated. Please use tf.compat.v1.is_variable_initialized instead.\n",
            "\n",
            "WARNING:tensorflow:From /usr/local/lib/python3.6/dist-packages/keras/backend/tensorflow_backend.py:223: The name tf.variables_initializer is deprecated. Please use tf.compat.v1.variables_initializer instead.\n",
            "\n",
            "66235/66235 [==============================] - 21s 320us/step - loss: 1.0266 - acc: 0.6427 - val_loss: 0.9143 - val_acc: 0.6818\n",
            "Epoch 2/100\n",
            "66235/66235 [==============================] - 15s 229us/step - loss: 0.9204 - acc: 0.6747 - val_loss: 0.8964 - val_acc: 0.6841\n",
            "Epoch 3/100\n",
            "66235/66235 [==============================] - 15s 229us/step - loss: 0.8899 - acc: 0.6835 - val_loss: 0.8851 - val_acc: 0.6877\n",
            "Epoch 4/100\n",
            "66235/66235 [==============================] - 15s 228us/step - loss: 0.8699 - acc: 0.6896 - val_loss: 0.8782 - val_acc: 0.6856\n",
            "Epoch 5/100\n",
            "66235/66235 [==============================] - 15s 232us/step - loss: 0.8505 - acc: 0.6936 - val_loss: 0.8805 - val_acc: 0.6885\n",
            "Epoch 6/100\n",
            "66235/66235 [==============================] - 15s 230us/step - loss: 0.8369 - acc: 0.6988 - val_loss: 0.8767 - val_acc: 0.6878\n",
            "Epoch 7/100\n",
            "66235/66235 [==============================] - 15s 229us/step - loss: 0.8184 - acc: 0.7029 - val_loss: 0.8657 - val_acc: 0.6912\n",
            "Epoch 8/100\n",
            "66235/66235 [==============================] - 15s 228us/step - loss: 0.8053 - acc: 0.7076 - val_loss: 0.8817 - val_acc: 0.6854\n",
            "Epoch 9/100\n",
            "66235/66235 [==============================] - 15s 228us/step - loss: 0.7883 - acc: 0.7115 - val_loss: 0.8685 - val_acc: 0.6926\n",
            "Epoch 10/100\n",
            "66235/66235 [==============================] - 15s 231us/step - loss: 0.7749 - acc: 0.7160 - val_loss: 0.9235 - val_acc: 0.6813\n",
            "Epoch 11/100\n",
            "66235/66235 [==============================] - 15s 230us/step - loss: 0.7573 - acc: 0.7228 - val_loss: 0.8940 - val_acc: 0.6888\n",
            "Epoch 12/100\n",
            "66235/66235 [==============================] - 15s 228us/step - loss: 0.7450 - acc: 0.7258 - val_loss: 0.9035 - val_acc: 0.6853\n",
            "Epoch 13/100\n",
            "66235/66235 [==============================] - 15s 228us/step - loss: 0.7333 - acc: 0.7307 - val_loss: 0.9091 - val_acc: 0.6867\n",
            "Epoch 14/100\n",
            "66235/66235 [==============================] - 15s 228us/step - loss: 0.7160 - acc: 0.7351 - val_loss: 0.9278 - val_acc: 0.6877\n",
            "Epoch 15/100\n",
            "66235/66235 [==============================] - 15s 229us/step - loss: 0.7067 - acc: 0.7393 - val_loss: 0.9332 - val_acc: 0.6767\n",
            "Epoch 16/100\n",
            "66235/66235 [==============================] - 15s 226us/step - loss: 0.6968 - acc: 0.7418 - val_loss: 0.9385 - val_acc: 0.6820\n",
            "Epoch 17/100\n",
            "66235/66235 [==============================] - 15s 229us/step - loss: 0.6812 - acc: 0.7477 - val_loss: 0.9616 - val_acc: 0.6820\n",
            "Epoch 18/100\n",
            "66235/66235 [==============================] - 15s 230us/step - loss: 0.6720 - acc: 0.7528 - val_loss: 0.9736 - val_acc: 0.6806\n",
            "Epoch 19/100\n",
            "66235/66235 [==============================] - 15s 226us/step - loss: 0.6610 - acc: 0.7545 - val_loss: 1.0092 - val_acc: 0.6796\n",
            "Epoch 20/100\n",
            "66235/66235 [==============================] - 15s 226us/step - loss: 0.6496 - acc: 0.7605 - val_loss: 0.9893 - val_acc: 0.6757\n",
            "Epoch 21/100\n",
            "66235/66235 [==============================] - 15s 227us/step - loss: 0.6367 - acc: 0.7623 - val_loss: 1.0234 - val_acc: 0.6766\n",
            "Epoch 22/100\n",
            "66235/66235 [==============================] - 15s 228us/step - loss: 0.6275 - acc: 0.7661 - val_loss: 1.0535 - val_acc: 0.6750\n",
            "Epoch 23/100\n",
            "66235/66235 [==============================] - 15s 225us/step - loss: 0.6162 - acc: 0.7696 - val_loss: 1.0419 - val_acc: 0.6727\n",
            "Epoch 24/100\n",
            "66235/66235 [==============================] - 15s 226us/step - loss: 0.6092 - acc: 0.7737 - val_loss: 1.0748 - val_acc: 0.6762\n",
            "Epoch 25/100\n",
            "66235/66235 [==============================] - 15s 228us/step - loss: 0.6003 - acc: 0.7762 - val_loss: 1.0799 - val_acc: 0.6810\n",
            "Epoch 26/100\n",
            "66235/66235 [==============================] - 15s 225us/step - loss: 0.5903 - acc: 0.7814 - val_loss: 1.1450 - val_acc: 0.6700\n",
            "Epoch 27/100\n",
            "66235/66235 [==============================] - 15s 226us/step - loss: 0.5825 - acc: 0.7841 - val_loss: 1.1302 - val_acc: 0.6691\n",
            "Epoch 28/100\n",
            "66235/66235 [==============================] - 15s 225us/step - loss: 0.5763 - acc: 0.7880 - val_loss: 1.1645 - val_acc: 0.6725\n",
            "Epoch 29/100\n",
            "66235/66235 [==============================] - 15s 225us/step - loss: 0.5660 - acc: 0.7910 - val_loss: 1.1865 - val_acc: 0.6683\n",
            "Epoch 30/100\n",
            "66235/66235 [==============================] - 15s 223us/step - loss: 0.5603 - acc: 0.7946 - val_loss: 1.1721 - val_acc: 0.6696\n",
            "Epoch 31/100\n",
            "66235/66235 [==============================] - 15s 230us/step - loss: 0.5511 - acc: 0.7963 - val_loss: 1.2150 - val_acc: 0.6617\n",
            "Epoch 32/100\n",
            "66235/66235 [==============================] - 15s 224us/step - loss: 0.5482 - acc: 0.7993 - val_loss: 1.2513 - val_acc: 0.6531\n",
            "Epoch 33/100\n",
            "66235/66235 [==============================] - 15s 225us/step - loss: 0.5422 - acc: 0.8016 - val_loss: 1.2722 - val_acc: 0.6688\n",
            "Epoch 34/100\n",
            "66235/66235 [==============================] - 15s 224us/step - loss: 0.5346 - acc: 0.8048 - val_loss: 1.2794 - val_acc: 0.6578\n",
            "Epoch 35/100\n",
            "66235/66235 [==============================] - 15s 224us/step - loss: 0.5297 - acc: 0.8066 - val_loss: 1.3166 - val_acc: 0.6688\n",
            "Epoch 36/100\n",
            "66235/66235 [==============================] - 15s 224us/step - loss: 0.5186 - acc: 0.8114 - val_loss: 1.2929 - val_acc: 0.6653\n",
            "Epoch 37/100\n",
            "66235/66235 [==============================] - 15s 228us/step - loss: 0.5151 - acc: 0.8128 - val_loss: 1.3499 - val_acc: 0.6634\n",
            "Epoch 38/100\n",
            "66235/66235 [==============================] - 15s 226us/step - loss: 0.5113 - acc: 0.8130 - val_loss: 1.3529 - val_acc: 0.6604\n",
            "Epoch 39/100\n",
            "66235/66235 [==============================] - 15s 227us/step - loss: 0.5044 - acc: 0.8169 - val_loss: 1.4058 - val_acc: 0.6621\n",
            "Epoch 40/100\n",
            "66235/66235 [==============================] - 15s 224us/step - loss: 0.5000 - acc: 0.8188 - val_loss: 1.3817 - val_acc: 0.6585\n",
            "Epoch 41/100\n",
            "66235/66235 [==============================] - 15s 225us/step - loss: 0.4975 - acc: 0.8196 - val_loss: 1.3688 - val_acc: 0.6642\n",
            "Epoch 42/100\n",
            "66235/66235 [==============================] - 15s 225us/step - loss: 0.4932 - acc: 0.8218 - val_loss: 1.4293 - val_acc: 0.6666\n",
            "Epoch 43/100\n",
            "66235/66235 [==============================] - 15s 228us/step - loss: 0.4892 - acc: 0.8231 - val_loss: 1.4461 - val_acc: 0.6517\n",
            "Epoch 44/100\n",
            "66235/66235 [==============================] - 15s 231us/step - loss: 0.4823 - acc: 0.8266 - val_loss: 1.4772 - val_acc: 0.6549\n",
            "Epoch 45/100\n",
            "66235/66235 [==============================] - 15s 229us/step - loss: 0.4829 - acc: 0.8263 - val_loss: 1.4382 - val_acc: 0.6553\n",
            "Epoch 46/100\n",
            "66235/66235 [==============================] - 15s 226us/step - loss: 0.4752 - acc: 0.8284 - val_loss: 1.5479 - val_acc: 0.6588\n",
            "Epoch 47/100\n",
            "66235/66235 [==============================] - 15s 225us/step - loss: 0.4736 - acc: 0.8311 - val_loss: 1.5269 - val_acc: 0.6525\n",
            "Epoch 48/100\n",
            "66235/66235 [==============================] - 15s 225us/step - loss: 0.4718 - acc: 0.8305 - val_loss: 1.5644 - val_acc: 0.6534\n",
            "Epoch 49/100\n",
            "66235/66235 [==============================] - 15s 227us/step - loss: 0.4635 - acc: 0.8341 - val_loss: 1.6154 - val_acc: 0.6525\n",
            "Epoch 50/100\n",
            "66235/66235 [==============================] - 15s 223us/step - loss: 0.4665 - acc: 0.8341 - val_loss: 1.5635 - val_acc: 0.6530\n",
            "Epoch 51/100\n",
            "66235/66235 [==============================] - 15s 224us/step - loss: 0.4595 - acc: 0.8360 - val_loss: 1.5362 - val_acc: 0.6583\n",
            "Epoch 52/100\n",
            "66235/66235 [==============================] - 15s 229us/step - loss: 0.4540 - acc: 0.8386 - val_loss: 1.6138 - val_acc: 0.6615\n",
            "Epoch 53/100\n",
            "66235/66235 [==============================] - 15s 224us/step - loss: 0.4548 - acc: 0.8382 - val_loss: 1.5976 - val_acc: 0.6660\n",
            "Epoch 54/100\n",
            "66235/66235 [==============================] - 15s 225us/step - loss: 0.4507 - acc: 0.8408 - val_loss: 1.6419 - val_acc: 0.6559\n",
            "Epoch 55/100\n",
            "66235/66235 [==============================] - 15s 224us/step - loss: 0.4465 - acc: 0.8398 - val_loss: 1.6263 - val_acc: 0.6569\n",
            "Epoch 56/100\n",
            "66235/66235 [==============================] - 15s 224us/step - loss: 0.4516 - acc: 0.8408 - val_loss: 1.6280 - val_acc: 0.6628\n",
            "Epoch 57/100\n",
            "66235/66235 [==============================] - 15s 225us/step - loss: 0.4479 - acc: 0.8407 - val_loss: 1.7065 - val_acc: 0.6623\n",
            "Epoch 58/100\n",
            "66235/66235 [==============================] - 15s 224us/step - loss: 0.4350 - acc: 0.8453 - val_loss: 1.7874 - val_acc: 0.6515\n",
            "Epoch 59/100\n",
            "66235/66235 [==============================] - 15s 224us/step - loss: 0.4383 - acc: 0.8445 - val_loss: 1.7119 - val_acc: 0.6600\n",
            "Epoch 60/100\n",
            "66235/66235 [==============================] - 15s 225us/step - loss: 0.4321 - acc: 0.8481 - val_loss: 1.7483 - val_acc: 0.6628\n",
            "Epoch 61/100\n",
            "66235/66235 [==============================] - 15s 225us/step - loss: 0.4354 - acc: 0.8463 - val_loss: 1.7227 - val_acc: 0.6652\n",
            "Epoch 62/100\n",
            "66235/66235 [==============================] - 15s 223us/step - loss: 0.4276 - acc: 0.8488 - val_loss: 1.7200 - val_acc: 0.6508\n",
            "Epoch 63/100\n",
            "66235/66235 [==============================] - 15s 223us/step - loss: 0.4323 - acc: 0.8479 - val_loss: 1.7258 - val_acc: 0.6548\n",
            "Epoch 64/100\n",
            "66235/66235 [==============================] - 15s 224us/step - loss: 0.4307 - acc: 0.8507 - val_loss: 1.7760 - val_acc: 0.6585\n",
            "Epoch 65/100\n",
            "66235/66235 [==============================] - 15s 226us/step - loss: 0.4254 - acc: 0.8511 - val_loss: 1.7666 - val_acc: 0.6557\n",
            "Epoch 66/100\n",
            "66235/66235 [==============================] - 15s 226us/step - loss: 0.4237 - acc: 0.8521 - val_loss: 1.8092 - val_acc: 0.6632\n",
            "Epoch 67/100\n",
            "66235/66235 [==============================] - 15s 224us/step - loss: 0.4160 - acc: 0.8549 - val_loss: 1.8056 - val_acc: 0.6537\n",
            "Epoch 68/100\n",
            "66235/66235 [==============================] - 15s 223us/step - loss: 0.4225 - acc: 0.8534 - val_loss: 1.8035 - val_acc: 0.6583\n",
            "Epoch 69/100\n",
            "66235/66235 [==============================] - 15s 225us/step - loss: 0.4172 - acc: 0.8550 - val_loss: 1.7563 - val_acc: 0.6623\n",
            "Epoch 70/100\n",
            "66235/66235 [==============================] - 15s 224us/step - loss: 0.4173 - acc: 0.8538 - val_loss: 1.8780 - val_acc: 0.6631\n",
            "Epoch 71/100\n",
            "66235/66235 [==============================] - 15s 226us/step - loss: 0.4134 - acc: 0.8567 - val_loss: 1.8618 - val_acc: 0.6458\n",
            "Epoch 72/100\n",
            "66235/66235 [==============================] - 15s 224us/step - loss: 0.4121 - acc: 0.8569 - val_loss: 1.8068 - val_acc: 0.6557\n",
            "Epoch 73/100\n",
            "66235/66235 [==============================] - 15s 229us/step - loss: 0.4102 - acc: 0.8587 - val_loss: 1.8049 - val_acc: 0.6625\n",
            "Epoch 74/100\n",
            "66235/66235 [==============================] - 15s 224us/step - loss: 0.4088 - acc: 0.8592 - val_loss: 1.8830 - val_acc: 0.6460\n",
            "Epoch 75/100\n",
            "66235/66235 [==============================] - 15s 226us/step - loss: 0.4103 - acc: 0.8588 - val_loss: 1.8086 - val_acc: 0.6585\n",
            "Epoch 76/100\n",
            "66235/66235 [==============================] - 15s 224us/step - loss: 0.4129 - acc: 0.8591 - val_loss: 1.8283 - val_acc: 0.6575\n",
            "Epoch 77/100\n",
            "66235/66235 [==============================] - 15s 224us/step - loss: 0.4108 - acc: 0.8592 - val_loss: 1.8764 - val_acc: 0.6487\n",
            "Epoch 78/100\n",
            "66235/66235 [==============================] - 15s 224us/step - loss: 0.4031 - acc: 0.8605 - val_loss: 1.9072 - val_acc: 0.6462\n",
            "Epoch 79/100\n",
            "66235/66235 [==============================] - 15s 226us/step - loss: 0.4040 - acc: 0.8612 - val_loss: 1.8344 - val_acc: 0.6539\n",
            "Epoch 80/100\n",
            "66235/66235 [==============================] - 15s 224us/step - loss: 0.4049 - acc: 0.8610 - val_loss: 1.9666 - val_acc: 0.6433\n",
            "Epoch 81/100\n",
            "66235/66235 [==============================] - 15s 225us/step - loss: 0.4030 - acc: 0.8619 - val_loss: 1.8695 - val_acc: 0.6597\n",
            "Epoch 82/100\n",
            "66235/66235 [==============================] - 15s 224us/step - loss: 0.3977 - acc: 0.8627 - val_loss: 1.9689 - val_acc: 0.6526\n",
            "Epoch 83/100\n",
            "66235/66235 [==============================] - 15s 224us/step - loss: 0.3950 - acc: 0.8644 - val_loss: 1.9907 - val_acc: 0.6534\n",
            "Epoch 84/100\n",
            "66235/66235 [==============================] - 15s 223us/step - loss: 0.3986 - acc: 0.8651 - val_loss: 1.9876 - val_acc: 0.6528\n",
            "Epoch 85/100\n",
            "66235/66235 [==============================] - 15s 223us/step - loss: 0.4004 - acc: 0.8638 - val_loss: 1.8565 - val_acc: 0.6515\n",
            "Epoch 86/100\n",
            "66235/66235 [==============================] - 15s 223us/step - loss: 0.3932 - acc: 0.8657 - val_loss: 1.9699 - val_acc: 0.6568\n",
            "Epoch 87/100\n",
            "66235/66235 [==============================] - 15s 226us/step - loss: 0.3891 - acc: 0.8682 - val_loss: 2.0188 - val_acc: 0.6498\n",
            "Epoch 88/100\n",
            "66235/66235 [==============================] - 15s 223us/step - loss: 0.4018 - acc: 0.8653 - val_loss: 1.9131 - val_acc: 0.6559\n",
            "Epoch 89/100\n",
            "66235/66235 [==============================] - 15s 224us/step - loss: 0.3901 - acc: 0.8672 - val_loss: 2.0159 - val_acc: 0.6598\n",
            "Epoch 90/100\n",
            "66235/66235 [==============================] - 15s 223us/step - loss: 0.3918 - acc: 0.8683 - val_loss: 2.0335 - val_acc: 0.6496\n",
            "Epoch 91/100\n",
            "66235/66235 [==============================] - 15s 223us/step - loss: 0.3874 - acc: 0.8685 - val_loss: 2.0015 - val_acc: 0.6464\n",
            "Epoch 92/100\n",
            "66235/66235 [==============================] - 15s 222us/step - loss: 0.3926 - acc: 0.8675 - val_loss: 2.1535 - val_acc: 0.6466\n",
            "Epoch 93/100\n",
            "66235/66235 [==============================] - 15s 226us/step - loss: 0.3834 - acc: 0.8703 - val_loss: 2.0107 - val_acc: 0.6516\n",
            "Epoch 94/100\n",
            "66235/66235 [==============================] - 15s 226us/step - loss: 0.3831 - acc: 0.8704 - val_loss: 2.0996 - val_acc: 0.6388\n",
            "Epoch 95/100\n",
            "66235/66235 [==============================] - 15s 223us/step - loss: 0.3871 - acc: 0.8696 - val_loss: 2.0672 - val_acc: 0.6518\n",
            "Epoch 96/100\n",
            "66235/66235 [==============================] - 15s 222us/step - loss: 0.3762 - acc: 0.8727 - val_loss: 2.0887 - val_acc: 0.6565\n",
            "Epoch 97/100\n",
            "66235/66235 [==============================] - 15s 224us/step - loss: 0.3890 - acc: 0.8699 - val_loss: 2.1099 - val_acc: 0.6531\n",
            "Epoch 98/100\n",
            "66235/66235 [==============================] - 15s 224us/step - loss: 0.3834 - acc: 0.8706 - val_loss: 2.0299 - val_acc: 0.6563\n",
            "Epoch 99/100\n",
            "66235/66235 [==============================] - 15s 224us/step - loss: 0.3757 - acc: 0.8727 - val_loss: 2.1703 - val_acc: 0.6460\n",
            "Epoch 100/100\n",
            "66235/66235 [==============================] - 15s 222us/step - loss: 0.3828 - acc: 0.8731 - val_loss: 2.0872 - val_acc: 0.6461\n"
          ],
          "name": "stdout"
        },
        {
          "output_type": "execute_result",
          "data": {
            "text/plain": [
              "<keras.callbacks.History at 0x7f5edfc72dd8>"
            ]
          },
          "metadata": {
            "tags": []
          },
          "execution_count": 68
        }
      ]
    },
    {
      "cell_type": "code",
      "metadata": {
        "id": "bVxltbppZCPD",
        "colab_type": "code",
        "colab": {
          "base_uri": "https://localhost:8080/",
          "height": 225
        },
        "outputId": "5f20fbec-aa4e-4144-b660-ca62af2f9c2e"
      },
      "source": [
        "nue_df.title"
      ],
      "execution_count": 69,
      "outputs": [
        {
          "output_type": "execute_result",
          "data": {
            "text/plain": [
              "0                              Def not best, but not worst\n",
              "1                              Text Messaging Doesn't Work\n",
              "2                                          Love This Phone\n",
              "3                                  Love the Phone, BUT...!\n",
              "4             Great phone service and options, lousy case!\n",
              "                               ...                        \n",
              "82810    International version. Will require USA adapte...\n",
              "82811    Be careful of International Version if Using T...\n",
              "82812            Moto G7 Play Freezes Every Time I Use It.\n",
              "82813                                   Camera is not good\n",
              "82814                                             Awesome.\n",
              "Name: title, Length: 82815, dtype: object"
            ]
          },
          "metadata": {
            "tags": []
          },
          "execution_count": 69
        }
      ]
    },
    {
      "cell_type": "code",
      "metadata": {
        "id": "U6rsCLSmWSa2",
        "colab_type": "code",
        "colab": {}
      },
      "source": [
        "from sklearn.model_selection import train_test_split\n",
        "x_train,x_test = train_test_split(nue_df['title'],train_size=0.8,random_state=1)\n",
        "y_train,y_test = train_test_split(nue_df['rating'],train_size=0.8,random_state=1)"
      ],
      "execution_count": 0,
      "outputs": []
    },
    {
      "cell_type": "code",
      "metadata": {
        "id": "Lafsnj3waYTq",
        "colab_type": "code",
        "colab": {}
      },
      "source": [
        "tokenizer = Tokenizer(num_words=2000)\n",
        "\n",
        "\n",
        "train.title=train.title.str.replace(r'\\d+', '')\n",
        "test.title=test.title.str.replace(r'\\d+', '')\n",
        "\n",
        "train.title=train.title.str.lower()\n",
        "test.title=test.title.str.lower()\n",
        "\n",
        "train=train[train['title'].apply(lambda x: isinstance(x, str))]\n",
        "test=test[test['title'].apply(lambda x: isinstance(x, str))]\n",
        "\n",
        "tokenizer.fit_on_texts(train.title)\n",
        "\n",
        "train_Y=keras.utils.to_categorical(train.rating)\n",
        "test_Y=keras.utils.to_categorical(test.rating)\n",
        "#tokenizer.fit_on_texts(x_train)\n",
        "\n",
        "train_X = pad_sequences(tokenizer.texts_to_sequences(train.title.values), 33)\n",
        "test_X = pad_sequences(tokenizer.texts_to_sequences(test.title.values),33)\n",
        "\n"
      ],
      "execution_count": 0,
      "outputs": []
    },
    {
      "cell_type": "code",
      "metadata": {
        "id": "-BTbrFubazS6",
        "colab_type": "code",
        "colab": {}
      },
      "source": [
        "embed_dim = 128\n",
        "lstm_out = 196\n",
        "max_features = 2000\n",
        "model = Sequential()\n",
        "model.add(Embedding(tokenizer.num_words, tokenizer.num_words, input_length=33))\n",
        "model.add(Conv1D(66, kernel_size=3, activation='relu'))\n",
        "model.add(Conv1D(66, kernel_size=3, activation='relu'))\n",
        "model.add(MaxPooling1D(pool_size=2))\n",
        "model.add(Dropout(.5))\n",
        "model.add(Conv1D(33, kernel_size=3, activation='relu'))\n",
        "model.add(MaxPooling1D(pool_size=2))\n",
        "model.add(Flatten())\n",
        "model.add(Dropout(.5))\n",
        "model.add(Dense(6,activation='softmax'))\n",
        "model.compile(loss = 'categorical_crossentropy', optimizer='adam',metrics = ['accuracy'])"
      ],
      "execution_count": 0,
      "outputs": []
    },
    {
      "cell_type": "code",
      "metadata": {
        "id": "9bRCDEGsa3Jy",
        "colab_type": "code",
        "colab": {
          "base_uri": "https://localhost:8080/",
          "height": 1000
        },
        "outputId": "f4b66898-28d0-45a2-c10b-8644b9ce1c03"
      },
      "source": [
        "batch_size = 32\n",
        "model.fit( train_X, \n",
        "           train_Y,\n",
        "           epochs = 100, \n",
        "           batch_size=batch_size, \n",
        "           verbose = 1, \n",
        "           validation_data=(test_X, test_Y))"
      ],
      "execution_count": 73,
      "outputs": [
        {
          "output_type": "stream",
          "text": [
            "Train on 66229 samples, validate on 16556 samples\n",
            "Epoch 1/100\n",
            "66229/66229 [==============================] - 16s 234us/step - loss: 1.0182 - acc: 0.6463 - val_loss: 0.8615 - val_acc: 0.6996\n",
            "Epoch 2/100\n",
            "66229/66229 [==============================] - 15s 226us/step - loss: 0.8942 - acc: 0.6919 - val_loss: 0.8521 - val_acc: 0.7032\n",
            "Epoch 3/100\n",
            "66229/66229 [==============================] - 15s 230us/step - loss: 0.8677 - acc: 0.6990 - val_loss: 0.8476 - val_acc: 0.7041\n",
            "Epoch 4/100\n",
            "66229/66229 [==============================] - 15s 226us/step - loss: 0.8503 - acc: 0.7054 - val_loss: 0.8400 - val_acc: 0.7052\n",
            "Epoch 5/100\n",
            "66229/66229 [==============================] - 15s 227us/step - loss: 0.8373 - acc: 0.7099 - val_loss: 0.8446 - val_acc: 0.7071\n",
            "Epoch 6/100\n",
            "66229/66229 [==============================] - 15s 225us/step - loss: 0.8256 - acc: 0.7129 - val_loss: 0.8387 - val_acc: 0.7054\n",
            "Epoch 7/100\n",
            "66229/66229 [==============================] - 15s 229us/step - loss: 0.8156 - acc: 0.7156 - val_loss: 0.8475 - val_acc: 0.7060\n",
            "Epoch 8/100\n",
            "66229/66229 [==============================] - 15s 228us/step - loss: 0.8045 - acc: 0.7196 - val_loss: 0.8492 - val_acc: 0.7069\n",
            "Epoch 9/100\n",
            "66229/66229 [==============================] - 15s 229us/step - loss: 0.7970 - acc: 0.7239 - val_loss: 0.8506 - val_acc: 0.7075\n",
            "Epoch 10/100\n",
            "66229/66229 [==============================] - 15s 224us/step - loss: 0.7843 - acc: 0.7268 - val_loss: 0.8585 - val_acc: 0.7053\n",
            "Epoch 11/100\n",
            "66229/66229 [==============================] - 15s 227us/step - loss: 0.7808 - acc: 0.7281 - val_loss: 0.8638 - val_acc: 0.7067\n",
            "Epoch 12/100\n",
            "66229/66229 [==============================] - 15s 225us/step - loss: 0.7736 - acc: 0.7298 - val_loss: 0.8682 - val_acc: 0.7052\n",
            "Epoch 13/100\n",
            "66229/66229 [==============================] - 15s 225us/step - loss: 0.7681 - acc: 0.7333 - val_loss: 0.8758 - val_acc: 0.7041\n",
            "Epoch 14/100\n",
            "66229/66229 [==============================] - 15s 232us/step - loss: 0.7582 - acc: 0.7352 - val_loss: 0.8967 - val_acc: 0.7072\n",
            "Epoch 15/100\n",
            "66229/66229 [==============================] - 15s 226us/step - loss: 0.7512 - acc: 0.7371 - val_loss: 0.8884 - val_acc: 0.7053\n",
            "Epoch 16/100\n",
            "66229/66229 [==============================] - 15s 222us/step - loss: 0.7479 - acc: 0.7395 - val_loss: 0.8946 - val_acc: 0.7057\n",
            "Epoch 17/100\n",
            "66229/66229 [==============================] - 15s 226us/step - loss: 0.7377 - acc: 0.7430 - val_loss: 0.9118 - val_acc: 0.7055\n",
            "Epoch 18/100\n",
            "66229/66229 [==============================] - 15s 224us/step - loss: 0.7342 - acc: 0.7427 - val_loss: 0.9214 - val_acc: 0.7065\n",
            "Epoch 19/100\n",
            "66229/66229 [==============================] - 15s 226us/step - loss: 0.7256 - acc: 0.7453 - val_loss: 0.9479 - val_acc: 0.7057\n",
            "Epoch 20/100\n",
            "66229/66229 [==============================] - 15s 224us/step - loss: 0.7249 - acc: 0.7475 - val_loss: 0.9482 - val_acc: 0.7051\n",
            "Epoch 21/100\n",
            "66229/66229 [==============================] - 15s 225us/step - loss: 0.7153 - acc: 0.7505 - val_loss: 0.9980 - val_acc: 0.7039\n",
            "Epoch 22/100\n",
            "66229/66229 [==============================] - 15s 224us/step - loss: 0.7151 - acc: 0.7519 - val_loss: 0.9673 - val_acc: 0.7031\n",
            "Epoch 23/100\n",
            "66229/66229 [==============================] - 15s 225us/step - loss: 0.7091 - acc: 0.7528 - val_loss: 0.9766 - val_acc: 0.7031\n",
            "Epoch 24/100\n",
            "66229/66229 [==============================] - 15s 225us/step - loss: 0.7005 - acc: 0.7555 - val_loss: 0.9882 - val_acc: 0.7038\n",
            "Epoch 25/100\n",
            "66229/66229 [==============================] - 15s 226us/step - loss: 0.6965 - acc: 0.7589 - val_loss: 1.0030 - val_acc: 0.7002\n",
            "Epoch 26/100\n",
            "66229/66229 [==============================] - 15s 224us/step - loss: 0.6967 - acc: 0.7583 - val_loss: 1.0073 - val_acc: 0.7026\n",
            "Epoch 27/100\n",
            "66229/66229 [==============================] - 15s 228us/step - loss: 0.6900 - acc: 0.7614 - val_loss: 1.0205 - val_acc: 0.7018\n",
            "Epoch 28/100\n",
            "66229/66229 [==============================] - 15s 225us/step - loss: 0.6861 - acc: 0.7637 - val_loss: 1.0315 - val_acc: 0.7043\n",
            "Epoch 29/100\n",
            "66229/66229 [==============================] - 15s 225us/step - loss: 0.6850 - acc: 0.7642 - val_loss: 1.0232 - val_acc: 0.7013\n",
            "Epoch 30/100\n",
            "66229/66229 [==============================] - 15s 225us/step - loss: 0.6783 - acc: 0.7671 - val_loss: 1.0647 - val_acc: 0.7002\n",
            "Epoch 31/100\n",
            "66229/66229 [==============================] - 15s 224us/step - loss: 0.6784 - acc: 0.7666 - val_loss: 1.0654 - val_acc: 0.7040\n",
            "Epoch 32/100\n",
            "66229/66229 [==============================] - 15s 224us/step - loss: 0.6713 - acc: 0.7686 - val_loss: 1.0914 - val_acc: 0.7031\n",
            "Epoch 33/100\n",
            "66229/66229 [==============================] - 15s 224us/step - loss: 0.6742 - acc: 0.7688 - val_loss: 1.0750 - val_acc: 0.7008\n",
            "Epoch 34/100\n",
            "66229/66229 [==============================] - 15s 225us/step - loss: 0.6660 - acc: 0.7703 - val_loss: 1.0947 - val_acc: 0.7011\n",
            "Epoch 35/100\n",
            "66229/66229 [==============================] - 15s 233us/step - loss: 0.6631 - acc: 0.7719 - val_loss: 1.0855 - val_acc: 0.7025\n",
            "Epoch 36/100\n",
            "66229/66229 [==============================] - 15s 225us/step - loss: 0.6589 - acc: 0.7727 - val_loss: 1.1163 - val_acc: 0.7019\n",
            "Epoch 37/100\n",
            "66229/66229 [==============================] - 15s 225us/step - loss: 0.6566 - acc: 0.7740 - val_loss: 1.1061 - val_acc: 0.7051\n",
            "Epoch 38/100\n",
            "66229/66229 [==============================] - 15s 223us/step - loss: 0.6524 - acc: 0.7765 - val_loss: 1.1383 - val_acc: 0.6997\n",
            "Epoch 39/100\n",
            "66229/66229 [==============================] - 15s 225us/step - loss: 0.6504 - acc: 0.7772 - val_loss: 1.1444 - val_acc: 0.7008\n",
            "Epoch 40/100\n",
            "66229/66229 [==============================] - 15s 224us/step - loss: 0.6515 - acc: 0.7773 - val_loss: 1.1346 - val_acc: 0.7005\n",
            "Epoch 41/100\n",
            "66229/66229 [==============================] - 15s 225us/step - loss: 0.6451 - acc: 0.7783 - val_loss: 1.2076 - val_acc: 0.7005\n",
            "Epoch 42/100\n",
            "66229/66229 [==============================] - 15s 224us/step - loss: 0.6456 - acc: 0.7799 - val_loss: 1.1654 - val_acc: 0.6988\n",
            "Epoch 43/100\n",
            "66229/66229 [==============================] - 15s 225us/step - loss: 0.6454 - acc: 0.7800 - val_loss: 1.2115 - val_acc: 0.7015\n",
            "Epoch 44/100\n",
            "66229/66229 [==============================] - 15s 222us/step - loss: 0.6413 - acc: 0.7823 - val_loss: 1.1774 - val_acc: 0.7001\n",
            "Epoch 45/100\n",
            "66229/66229 [==============================] - 15s 225us/step - loss: 0.6425 - acc: 0.7810 - val_loss: 1.1745 - val_acc: 0.7012\n",
            "Epoch 46/100\n",
            "66229/66229 [==============================] - 15s 225us/step - loss: 0.6362 - acc: 0.7838 - val_loss: 1.2156 - val_acc: 0.7020\n",
            "Epoch 47/100\n",
            "66229/66229 [==============================] - 15s 225us/step - loss: 0.6368 - acc: 0.7843 - val_loss: 1.2117 - val_acc: 0.7007\n",
            "Epoch 48/100\n",
            "66229/66229 [==============================] - 15s 226us/step - loss: 0.6307 - acc: 0.7845 - val_loss: 1.2287 - val_acc: 0.7022\n",
            "Epoch 49/100\n",
            "66229/66229 [==============================] - 15s 225us/step - loss: 0.6321 - acc: 0.7856 - val_loss: 1.2000 - val_acc: 0.7003\n",
            "Epoch 50/100\n",
            "66229/66229 [==============================] - 15s 224us/step - loss: 0.6323 - acc: 0.7869 - val_loss: 1.2429 - val_acc: 0.6997\n",
            "Epoch 51/100\n",
            "66229/66229 [==============================] - 15s 226us/step - loss: 0.6292 - acc: 0.7874 - val_loss: 1.2383 - val_acc: 0.7002\n",
            "Epoch 52/100\n",
            "66229/66229 [==============================] - 15s 225us/step - loss: 0.6259 - acc: 0.7894 - val_loss: 1.2974 - val_acc: 0.6991\n",
            "Epoch 53/100\n",
            "66229/66229 [==============================] - 15s 223us/step - loss: 0.6231 - acc: 0.7895 - val_loss: 1.2814 - val_acc: 0.6981\n",
            "Epoch 54/100\n",
            "66229/66229 [==============================] - 15s 224us/step - loss: 0.6283 - acc: 0.7880 - val_loss: 1.2601 - val_acc: 0.6961\n",
            "Epoch 55/100\n",
            "66229/66229 [==============================] - 15s 225us/step - loss: 0.6249 - acc: 0.7884 - val_loss: 1.2445 - val_acc: 0.6982\n",
            "Epoch 56/100\n",
            "66229/66229 [==============================] - 15s 230us/step - loss: 0.6253 - acc: 0.7894 - val_loss: 1.2806 - val_acc: 0.7019\n",
            "Epoch 57/100\n",
            "66229/66229 [==============================] - 15s 227us/step - loss: 0.6231 - acc: 0.7915 - val_loss: 1.2423 - val_acc: 0.7021\n",
            "Epoch 58/100\n",
            "66229/66229 [==============================] - 15s 224us/step - loss: 0.6171 - acc: 0.7922 - val_loss: 1.3262 - val_acc: 0.7011\n",
            "Epoch 59/100\n",
            "66229/66229 [==============================] - 15s 225us/step - loss: 0.6199 - acc: 0.7914 - val_loss: 1.3184 - val_acc: 0.7004\n",
            "Epoch 60/100\n",
            "66229/66229 [==============================] - 15s 224us/step - loss: 0.6184 - acc: 0.7923 - val_loss: 1.3137 - val_acc: 0.7015\n",
            "Epoch 61/100\n",
            "66229/66229 [==============================] - 15s 224us/step - loss: 0.6128 - acc: 0.7930 - val_loss: 1.2789 - val_acc: 0.6995\n",
            "Epoch 62/100\n",
            "66229/66229 [==============================] - 15s 225us/step - loss: 0.6131 - acc: 0.7947 - val_loss: 1.2772 - val_acc: 0.6988\n",
            "Epoch 63/100\n",
            "66229/66229 [==============================] - 15s 224us/step - loss: 0.6086 - acc: 0.7946 - val_loss: 1.3523 - val_acc: 0.7011\n",
            "Epoch 64/100\n",
            "66229/66229 [==============================] - 15s 224us/step - loss: 0.6159 - acc: 0.7936 - val_loss: 1.3175 - val_acc: 0.7025\n",
            "Epoch 65/100\n",
            "66229/66229 [==============================] - 15s 225us/step - loss: 0.6064 - acc: 0.7977 - val_loss: 1.3362 - val_acc: 0.6986\n",
            "Epoch 66/100\n",
            "66229/66229 [==============================] - 15s 224us/step - loss: 0.6073 - acc: 0.7962 - val_loss: 1.3689 - val_acc: 0.6976\n",
            "Epoch 67/100\n",
            "66229/66229 [==============================] - 15s 225us/step - loss: 0.6110 - acc: 0.7956 - val_loss: 1.3237 - val_acc: 0.6991\n",
            "Epoch 68/100\n",
            "66229/66229 [==============================] - 15s 226us/step - loss: 0.6041 - acc: 0.7971 - val_loss: 1.3891 - val_acc: 0.6999\n",
            "Epoch 69/100\n",
            "66229/66229 [==============================] - 15s 224us/step - loss: 0.6069 - acc: 0.7973 - val_loss: 1.3734 - val_acc: 0.6980\n",
            "Epoch 70/100\n",
            "66229/66229 [==============================] - 15s 224us/step - loss: 0.6024 - acc: 0.7985 - val_loss: 1.3616 - val_acc: 0.6985\n",
            "Epoch 71/100\n",
            "66229/66229 [==============================] - 15s 224us/step - loss: 0.6059 - acc: 0.7977 - val_loss: 1.3920 - val_acc: 0.6970\n",
            "Epoch 72/100\n",
            "66229/66229 [==============================] - 15s 224us/step - loss: 0.6026 - acc: 0.7991 - val_loss: 1.4073 - val_acc: 0.6995\n",
            "Epoch 73/100\n",
            "66229/66229 [==============================] - 15s 225us/step - loss: 0.5991 - acc: 0.7998 - val_loss: 1.3483 - val_acc: 0.7019\n",
            "Epoch 74/100\n",
            "66229/66229 [==============================] - 15s 224us/step - loss: 0.5967 - acc: 0.8010 - val_loss: 1.4072 - val_acc: 0.7009\n",
            "Epoch 75/100\n",
            "66229/66229 [==============================] - 15s 224us/step - loss: 0.5973 - acc: 0.8008 - val_loss: 1.4103 - val_acc: 0.6976\n",
            "Epoch 76/100\n",
            "66229/66229 [==============================] - 15s 225us/step - loss: 0.5998 - acc: 0.8003 - val_loss: 1.4076 - val_acc: 0.6984\n",
            "Epoch 77/100\n",
            "66229/66229 [==============================] - 15s 229us/step - loss: 0.6044 - acc: 0.7988 - val_loss: 1.4209 - val_acc: 0.6958\n",
            "Epoch 78/100\n",
            "66229/66229 [==============================] - 15s 225us/step - loss: 0.5979 - acc: 0.8016 - val_loss: 1.4472 - val_acc: 0.6923\n",
            "Epoch 79/100\n",
            "66229/66229 [==============================] - 15s 225us/step - loss: 0.5932 - acc: 0.8024 - val_loss: 1.4235 - val_acc: 0.6981\n",
            "Epoch 80/100\n",
            "66229/66229 [==============================] - 15s 225us/step - loss: 0.5950 - acc: 0.8021 - val_loss: 1.4014 - val_acc: 0.7007\n",
            "Epoch 81/100\n",
            "66229/66229 [==============================] - 15s 225us/step - loss: 0.5949 - acc: 0.8019 - val_loss: 1.4265 - val_acc: 0.6971\n",
            "Epoch 82/100\n",
            "66229/66229 [==============================] - 15s 224us/step - loss: 0.5933 - acc: 0.8029 - val_loss: 1.4694 - val_acc: 0.6962\n",
            "Epoch 83/100\n",
            "66229/66229 [==============================] - 15s 226us/step - loss: 0.5946 - acc: 0.8034 - val_loss: 1.5077 - val_acc: 0.6986\n",
            "Epoch 84/100\n",
            "66229/66229 [==============================] - 15s 226us/step - loss: 0.5943 - acc: 0.8037 - val_loss: 1.4634 - val_acc: 0.6955\n",
            "Epoch 85/100\n",
            "66229/66229 [==============================] - 15s 224us/step - loss: 0.5933 - acc: 0.8035 - val_loss: 1.4509 - val_acc: 0.6968\n",
            "Epoch 86/100\n",
            "66229/66229 [==============================] - 15s 225us/step - loss: 0.5891 - acc: 0.8051 - val_loss: 1.4417 - val_acc: 0.6978\n",
            "Epoch 87/100\n",
            "66229/66229 [==============================] - 15s 225us/step - loss: 0.5896 - acc: 0.8044 - val_loss: 1.4371 - val_acc: 0.6988\n",
            "Epoch 88/100\n",
            "66229/66229 [==============================] - 15s 224us/step - loss: 0.5915 - acc: 0.8038 - val_loss: 1.5052 - val_acc: 0.7000\n",
            "Epoch 89/100\n",
            "66229/66229 [==============================] - 15s 227us/step - loss: 0.5853 - acc: 0.8051 - val_loss: 1.4599 - val_acc: 0.6967\n",
            "Epoch 90/100\n",
            "66229/66229 [==============================] - 15s 226us/step - loss: 0.5865 - acc: 0.8058 - val_loss: 1.4633 - val_acc: 0.6999\n",
            "Epoch 91/100\n",
            "66229/66229 [==============================] - 15s 224us/step - loss: 0.5827 - acc: 0.8062 - val_loss: 1.4881 - val_acc: 0.6976\n",
            "Epoch 92/100\n",
            "66229/66229 [==============================] - 15s 225us/step - loss: 0.5839 - acc: 0.8063 - val_loss: 1.5072 - val_acc: 0.6979\n",
            "Epoch 93/100\n",
            "66229/66229 [==============================] - 15s 224us/step - loss: 0.5773 - acc: 0.8075 - val_loss: 1.5572 - val_acc: 0.6999\n",
            "Epoch 94/100\n",
            "66229/66229 [==============================] - 15s 225us/step - loss: 0.5902 - acc: 0.8054 - val_loss: 1.4723 - val_acc: 0.6953\n",
            "Epoch 95/100\n",
            "66229/66229 [==============================] - 15s 225us/step - loss: 0.5908 - acc: 0.8050 - val_loss: 1.5312 - val_acc: 0.7013\n",
            "Epoch 96/100\n",
            "66229/66229 [==============================] - 15s 225us/step - loss: 0.5855 - acc: 0.8067 - val_loss: 1.4894 - val_acc: 0.6970\n",
            "Epoch 97/100\n",
            "66229/66229 [==============================] - 15s 226us/step - loss: 0.5786 - acc: 0.8085 - val_loss: 1.5155 - val_acc: 0.6973\n",
            "Epoch 98/100\n",
            "66229/66229 [==============================] - 15s 227us/step - loss: 0.5733 - acc: 0.8092 - val_loss: 1.5455 - val_acc: 0.6984\n",
            "Epoch 99/100\n",
            "66229/66229 [==============================] - 15s 225us/step - loss: 0.5891 - acc: 0.8059 - val_loss: 1.4917 - val_acc: 0.6949\n",
            "Epoch 100/100\n",
            "66229/66229 [==============================] - 15s 226us/step - loss: 0.5778 - acc: 0.8087 - val_loss: 1.5004 - val_acc: 0.6982\n"
          ],
          "name": "stdout"
        },
        {
          "output_type": "execute_result",
          "data": {
            "text/plain": [
              "<keras.callbacks.History at 0x7f5ed957ae80>"
            ]
          },
          "metadata": {
            "tags": []
          },
          "execution_count": 73
        }
      ]
    }
  ]
}